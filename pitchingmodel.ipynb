{
 "cells": [
  {
   "cell_type": "code",
   "execution_count": 1,
   "metadata": {},
   "outputs": [
    {
     "name": "stderr",
     "output_type": "stream",
     "text": [
      "/home/wahoo/.pyenv/versions/3.13.2/envs/ootp-analytics/lib/python3.13/site-packages/tqdm/auto.py:21: TqdmWarning: IProgress not found. Please update jupyter and ipywidgets. See https://ipywidgets.readthedocs.io/en/stable/user_install.html\n",
      "  from .autonotebook import tqdm as notebook_tqdm\n"
     ]
    }
   ],
   "source": [
    "import pandas as pd\n",
    "from model.PitchingModel import PitchingModel\n"
   ]
  },
  {
   "cell_type": "code",
   "execution_count": null,
   "metadata": {},
   "outputs": [],
   "source": [
    "league =  'BZ'\n",
    "season = 2017\n",
    "roles = ['SP', 'RP']\n",
    "ratings_type = \"Standard\"\n",
    "\n",
    "ip_limits = {\n",
    "    'SP': 80,\n",
    "    'RP': 40}"
   ]
  },
  {
   "cell_type": "code",
   "execution_count": 3,
   "metadata": {},
   "outputs": [
    {
     "name": "stdout",
     "output_type": "stream",
     "text": [
      "\n",
      "Training model for pitching SP\n",
      "CUDA is available! Using GPU.\n",
      "Epoch [238/50000], Loss: 0.0009555\n",
      "Epoch [237/50000], Loss: 0.0009555\n",
      "Test Mean Squared Error: 4.4276767\n",
      "    mean_abs_shap  stdev_abs_shap    name\n",
      "5        0.591002        0.603846  PBABIP\n",
      "2        0.461461        0.390310       T\n",
      "9        0.367082        0.285388    VELO\n",
      "1        0.352510        0.364276      WT\n",
      "0        0.335672        0.294570      HT\n",
      "13       0.335163        0.288862     HLD\n",
      "8        0.312648        0.458613     G/F\n",
      "3        0.307558        0.466718     STU\n",
      "11       0.301931        0.373059      PT\n",
      "6        0.295365        0.377605     HRR\n",
      "12       0.281465        0.309167     STM\n",
      "10       0.270468        0.390769    Slot\n",
      "7        0.266720        0.311612     PIT\n",
      "4        0.266564        0.200875   CON.1\n",
      "\n",
      "Training model for pitching RP\n",
      "CUDA is available! Using GPU.\n",
      "Epoch [399/50000], Loss: 0.0009666\n",
      "Epoch [398/50000], Loss: 0.0009666\n",
      "Test Mean Squared Error: 9.1268663\n",
      "    mean_abs_shap  stdev_abs_shap    name\n",
      "5        0.826466        0.663058  PBABIP\n",
      "3        0.714321        0.990344     STU\n",
      "0        0.699468        0.747605      HT\n",
      "1        0.628266        0.691408      WT\n",
      "12       0.574667        0.571166     STM\n",
      "6        0.531445        0.576068     HRR\n",
      "11       0.476151        0.415652      PT\n",
      "4        0.463904        0.537598   CON.1\n",
      "10       0.462616        0.637809    Slot\n",
      "9        0.440785        0.458773    VELO\n",
      "13       0.413240        0.420114     HLD\n",
      "7        0.396152        0.401210     PIT\n",
      "2        0.363435        0.361980       T\n",
      "8        0.330753        0.588701     G/F\n"
     ]
    }
   ],
   "source": [
    "\n",
    "    \n",
    "for role in roles:\n",
    "    print(f\"\\r\\nTraining model for pitching {role}\")\n",
    "    fieldingModel = PitchingModel(league, season, season, role, ratings_type)\n",
    "    fieldingModel.load_data(ip_limits[role])\n",
    "\n",
    "    epoch_count, loss = fieldingModel.train(50000)\n",
    "    print(f\"Epoch [{epoch_count}/{50000}], Loss: {loss:.7f}\")\n",
    "\n",
    "    test_loss = fieldingModel.evaluate()\n",
    "    print(f\"Test Mean Squared Error: {test_loss:.7f}\")\n",
    "\n",
    "    feature_importance = fieldingModel.feature_importance()\n",
    "    print(feature_importance)\n",
    "\n",
    "    fieldingModel.save_model()"
   ]
  }
 ],
 "metadata": {
  "kernelspec": {
   "display_name": "Python 3 (ipykernel)",
   "language": "python",
   "name": "python3"
  },
  "language_info": {
   "codemirror_mode": {
    "name": "ipython",
    "version": 3
   },
   "file_extension": ".py",
   "mimetype": "text/x-python",
   "name": "python",
   "nbconvert_exporter": "python",
   "pygments_lexer": "ipython3",
   "version": "3.13.2"
  }
 },
 "nbformat": 4,
 "nbformat_minor": 2
}
