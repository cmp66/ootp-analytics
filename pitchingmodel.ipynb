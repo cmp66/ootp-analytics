{
 "cells": [
  {
   "cell_type": "code",
   "execution_count": 1,
   "metadata": {},
   "outputs": [
    {
     "name": "stderr",
     "output_type": "stream",
     "text": [
      "/home/wahoo/.pyenv/versions/3.13.2/envs/ootp-analytics/lib/python3.13/site-packages/tqdm/auto.py:21: TqdmWarning: IProgress not found. Please update jupyter and ipywidgets. See https://ipywidgets.readthedocs.io/en/stable/user_install.html\n",
      "  from .autonotebook import tqdm as notebook_tqdm\n"
     ]
    }
   ],
   "source": [
    "import pandas as pd\n",
    "from model.PitchingModel import PitchingModel\n"
   ]
  },
  {
   "cell_type": "code",
   "execution_count": 2,
   "metadata": {},
   "outputs": [],
   "source": [
    "league =  'BZ'\n",
    "season = 2017\n",
    "roles = ['SP', 'RP']\n",
    "ratings_type = \"Standard\"\n",
    "\n",
    "ip_limits = {\n",
    "    'SP': 80,\n",
    "    'RP': 40}"
   ]
  },
  {
   "cell_type": "code",
   "execution_count": 3,
   "metadata": {},
   "outputs": [
    {
     "name": "stdout",
     "output_type": "stream",
     "text": [
      "\n",
      "Training model for pitching SP\n",
      "CUDA is available! Using GPU.\n",
      "Empty DataFrame\n",
      "Columns: [HT, WT, T, STU, CON.1, PBABIP, HRR, PIT, G/F, VELO, Slot, PT, STM, HLD, WAA200]\n",
      "Index: []\n",
      "Epoch [290/50000], Loss: 0.0009696\n",
      "Epoch [289/50000], Loss: 0.0009696\n",
      "Test Mean Squared Error: 8.8546562\n",
      "    mean_abs_shap  stdev_abs_shap    name\n",
      "3        1.559183        1.522978     STU\n",
      "6        1.202138        1.122027     HRR\n",
      "1        0.651045        0.671405      WT\n",
      "4        0.639926        0.564896   CON.1\n",
      "0        0.630759        0.714546      HT\n",
      "9        0.484358        0.438534    VELO\n",
      "2        0.453196        0.366174       T\n",
      "13       0.372543        0.361191     HLD\n",
      "7        0.361554        0.355853     PIT\n",
      "5        0.353358        0.296505  PBABIP\n",
      "8        0.343214        0.289371     G/F\n",
      "12       0.261735        0.229190     STM\n",
      "10       0.246424        0.248160    Slot\n",
      "11       0.098489        0.226357      PT\n",
      "\n",
      "Training model for pitching RP\n",
      "CUDA is available! Using GPU.\n",
      "Empty DataFrame\n",
      "Columns: [HT, WT, T, STU, CON.1, PBABIP, HRR, PIT, G/F, VELO, Slot, PT, STM, HLD, WAA200]\n",
      "Index: []\n",
      "Epoch [483/50000], Loss: 0.0009600\n",
      "Epoch [482/50000], Loss: 0.0009600\n",
      "Test Mean Squared Error: 15.5359602\n",
      "    mean_abs_shap  stdev_abs_shap    name\n",
      "6        1.379546        1.573594     HRR\n",
      "4        1.097168        0.880856   CON.1\n",
      "3        1.076470        1.162048     STU\n",
      "1        0.923044        1.029868      WT\n",
      "11       0.858774        1.158676      PT\n",
      "12       0.855000        0.667765     STM\n",
      "2        0.682801        0.691754       T\n",
      "0        0.665843        0.640752      HT\n",
      "9        0.573946        0.699990    VELO\n",
      "7        0.519105        0.526728     PIT\n",
      "5        0.505753        0.457739  PBABIP\n",
      "13       0.479414        0.444471     HLD\n",
      "8        0.467906        0.443476     G/F\n",
      "10       0.386760        0.567009    Slot\n"
     ]
    }
   ],
   "source": [
    "\n",
    "    \n",
    "for role in roles:\n",
    "    print(f\"\\r\\nTraining model for pitching {role}\")\n",
    "    fieldingModel = PitchingModel(league, season, season, role, ratings_type)\n",
    "    fieldingModel.load_data(ip_limits[role])\n",
    "\n",
    "    epoch_count, loss = fieldingModel.train(50000)\n",
    "    print(f\"Epoch [{epoch_count}/{50000}], Loss: {loss:.7f}\")\n",
    "\n",
    "    test_loss = fieldingModel.evaluate()\n",
    "    print(f\"Test Mean Squared Error: {test_loss:.7f}\")\n",
    "\n",
    "    feature_importance = fieldingModel.feature_importance()\n",
    "    print(feature_importance)\n",
    "\n",
    "    fieldingModel.save_model()"
   ]
  }
 ],
 "metadata": {
  "kernelspec": {
   "display_name": "Python 3 (ipykernel)",
   "language": "python",
   "name": "python3"
  },
  "language_info": {
   "codemirror_mode": {
    "name": "ipython",
    "version": 3
   },
   "file_extension": ".py",
   "mimetype": "text/x-python",
   "name": "python",
   "nbconvert_exporter": "python",
   "pygments_lexer": "ipython3",
   "version": "3.13.2"
  }
 },
 "nbformat": 4,
 "nbformat_minor": 2
}
