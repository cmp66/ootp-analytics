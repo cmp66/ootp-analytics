{
 "cells": [
  {
   "cell_type": "code",
   "execution_count": 1,
   "metadata": {},
   "outputs": [
    {
     "name": "stderr",
     "output_type": "stream",
     "text": [
      "/home/wahoo/.pyenv/versions/3.13.2/envs/ootp-analytics/lib/python3.13/site-packages/tqdm/auto.py:21: TqdmWarning: IProgress not found. Please update jupyter and ipywidgets. See https://ipywidgets.readthedocs.io/en/stable/user_install.html\n",
      "  from .autonotebook import tqdm as notebook_tqdm\n"
     ]
    }
   ],
   "source": [
    "import pandas as pd\n",
    "from model.PitchingModel import PitchingModel\n"
   ]
  },
  {
   "cell_type": "code",
   "execution_count": 2,
   "metadata": {},
   "outputs": [],
   "source": [
    "league =  'BZ'\n",
    "season_start = 2016\n",
    "season_end = 2050\n",
    "roles = ['SP', 'RP']\n",
    "ratings_type = \"Standard\"\n",
    "\n",
    "ip_limits = {\n",
    "    'SP': 80,\n",
    "    'RP': 40}"
   ]
  },
  {
   "cell_type": "code",
   "execution_count": 3,
   "metadata": {},
   "outputs": [
    {
     "name": "stdout",
     "output_type": "stream",
     "text": [
      "\n",
      "Training model for pitching SP\n",
      "CUDA is available! Using GPU.\n",
      "(159, 14)\n",
      "(312, 14)\n",
      "(464, 14)\n",
      "Empty DataFrame\n",
      "Columns: [HT, WT, T, STU, CON.1, PBABIP, HRR, PIT, G/F, VELO, Slot, STM, HLD, WAA200]\n",
      "Index: []\n",
      "Epoch [2000/5000], Best Loss: 0.0257857, Best Eval: 10000.0000000\n",
      "Epoch [4000/5000], Best Loss: 0.0198689, Best Eval: 10000.0000000\n",
      "Epoch [4999/50000], Loss: 0.0513464\n",
      "Test Mean Squared Error: 1.7639462\n",
      "    mean_abs_shap  stdev_abs_shap    name\n",
      "6        0.648110        0.657836     HRR\n",
      "4        0.595138        0.745656   CON.1\n",
      "3        0.572624        0.860336     STU\n",
      "0        0.300711        0.347943      HT\n",
      "2        0.282570        0.279728       T\n",
      "12       0.256600        0.264330     HLD\n",
      "1        0.251236        0.252224      WT\n",
      "9        0.238334        0.229117    VELO\n",
      "5        0.227251        0.254249  PBABIP\n",
      "11       0.217985        0.243022     STM\n",
      "7        0.214420        0.202528     PIT\n",
      "10       0.183979        0.272896    Slot\n",
      "8        0.158452        0.178816     G/F\n",
      "\n",
      "Training model for pitching RP\n",
      "CUDA is available! Using GPU.\n",
      "(401, 14)\n",
      "(780, 14)\n",
      "(1165, 14)\n",
      "Empty DataFrame\n",
      "Columns: [HT, WT, T, STU, CON.1, PBABIP, HRR, PIT, G/F, VELO, Slot, STM, HLD, WAA200]\n",
      "Index: []\n",
      "Epoch [2000/5000], Best Loss: 0.0697174, Best Eval: 10000.0000000\n",
      "Epoch [4000/5000], Best Loss: 0.0469618, Best Eval: 10000.0000000\n",
      "Epoch [4999/50000], Loss: 0.0759475\n",
      "Test Mean Squared Error: 2.4062488\n",
      "    mean_abs_shap  stdev_abs_shap    name\n",
      "6        0.858638        0.848012     HRR\n",
      "4        0.831909        0.790669   CON.1\n",
      "3        0.786417        0.809394     STU\n",
      "0        0.543853        0.614584      HT\n",
      "9        0.536115        0.595350    VELO\n",
      "1        0.530587        0.625174      WT\n",
      "5        0.509601        0.572692  PBABIP\n",
      "7        0.484227        0.459868     PIT\n",
      "12       0.447177        0.460914     HLD\n",
      "11       0.393994        0.367210     STM\n",
      "8        0.392795        0.426843     G/F\n",
      "10       0.382679        0.437257    Slot\n",
      "2        0.334790        0.313309       T\n"
     ]
    }
   ],
   "source": [
    "\n",
    "    \n",
    "for role in roles:\n",
    "    print(f\"\\r\\nTraining model for pitching {role}\")\n",
    "    fieldingModel = PitchingModel(league, season_start, season_end, role, ratings_type)\n",
    "    fieldingModel.load_data(ip_limits[role])\n",
    "\n",
    "    epoch_count, loss = fieldingModel.train(5000)\n",
    "    print(f\"Epoch [{epoch_count}/{50000}], Loss: {loss:.7f}\")\n",
    "\n",
    "    test_loss = fieldingModel.evaluate()\n",
    "    print(f\"Test Mean Error: {test_loss:.7f}\")\n",
    "\n",
    "    feature_importance = fieldingModel.feature_importance()\n",
    "    print(feature_importance)\n",
    "\n",
    "    fieldingModel.save_model()"
   ]
  }
 ],
 "metadata": {
  "kernelspec": {
   "display_name": "Python 3 (ipykernel)",
   "language": "python",
   "name": "python3"
  }
 },
 "nbformat": 4,
 "nbformat_minor": 2
}
