{
 "cells": [
  {
   "cell_type": "code",
   "execution_count": 1,
   "metadata": {},
   "outputs": [],
   "source": [
    "import pandas as pd\n",
    "from stats import woba, batting, fielding\n"
   ]
  },
  {
   "cell_type": "code",
   "execution_count": 2,
   "metadata": {},
   "outputs": [],
   "source": [
    "season = 2036\n",
    "league = \"TGS\"\n",
    "batting_file = f\"files/{league}/{season}/TGS-{season}-Hitting.csv\"\n",
    "fielding_file = f\"files/{league}/{season}/TGS-{season}-Fielding.csv\""
   ]
  },
  {
   "cell_type": "code",
   "execution_count": 3,
   "metadata": {},
   "outputs": [],
   "source": [
    "df_player_battings_stats = pd.read_csv(batting_file, index_col=\"ID\")\n",
    "df_player_fielding_stats = pd.read_csv(fielding_file)\n",
    "#df_player_fielding_stats['ID-Pos'] = f'{df_player_fielding_stats.index} - {df_player_fielding_stats['POS']}'\n",
    "#df_player_fielding_stats.set_index('ID-Pos', inplace=True)"
   ]
  },
  {
   "cell_type": "code",
   "execution_count": 4,
   "metadata": {},
   "outputs": [],
   "source": [
    "league_batting_totals = {\n",
    "    \"PA\": df_player_battings_stats[\"PA\"].sum(),\n",
    "    \"AB\": df_player_battings_stats[\"AB\"].sum(),\n",
    "    \"R\": df_player_battings_stats[\"R\"].sum(),\n",
    "    \"H\": df_player_battings_stats[\"H\"].sum(),\n",
    "    \"1B\": df_player_battings_stats[\"1B\"].sum(),\n",
    "    \"2B\": df_player_battings_stats[\"2B\"].sum(),\n",
    "    \"3B\": df_player_battings_stats[\"3B\"].sum(),\n",
    "    \"HR\": df_player_battings_stats[\"HR\"].sum(),\n",
    "    \"BB\": df_player_battings_stats[\"BB\"].sum(),\n",
    "    \"IBB\": df_player_battings_stats[\"IBB\"].sum(),\n",
    "    \"HP\": df_player_battings_stats[\"HP\"].sum(),\n",
    "    \"SO\": df_player_battings_stats[\"SO\"].sum(),\n",
    "    \"SF\": df_player_battings_stats[\"SF\"].sum(),\n",
    "    \"SH\": df_player_battings_stats[\"SH\"].sum(),\n",
    "    \"GIDP\": df_player_battings_stats[\"GIDP\"].sum(),\n",
    "    \"SB\": df_player_battings_stats[\"SB\"].sum(),\n",
    "    \"CS\": df_player_battings_stats[\"CS\"].sum(),\n",
    "    \"UBR\": df_player_battings_stats[\"UBR\"].sum(),\n",
    "}\n",
    "\n",
    "df_lg_batting_stat = pd.DataFrame(\n",
    "    list(woba.calc_league_data(league_batting_totals).items()), columns=[\"Stat\", \"Value\"]\n",
    ")\n",
    "df_lg_batting_stat[\"season\"] = season\n",
    "df_lg_batting_stat[\"league\"] = league\n",
    "df_lg_batting_stat.set_index(\"Stat\", inplace=True)\n",
    "#print(df_lg_stat)"
   ]
  },
  {
   "cell_type": "code",
   "execution_count": 5,
   "metadata": {},
   "outputs": [],
   "source": [
    "df_player_battings_stats = batting.calculate_player_batting_stats(df_player_battings_stats, df_lg_batting_stat)\n",
    "df_player_battings_stats[\"season\"] = season\n",
    "df_player_battings_stats[\"league\"] = league"
   ]
  },
  {
   "cell_type": "code",
   "execution_count": 6,
   "metadata": {},
   "outputs": [],
   "source": [
    "# print(\n",
    "#     df_player_stats[\n",
    "#         [\n",
    "#             \"Name\",\n",
    "#             \"wOBA\",\n",
    "#             \"wSB\",\n",
    "#             \"UBRAA\",\n",
    "#             \"wRAA\",\n",
    "#             \"OBP\",\n",
    "#             \"BSR\",\n",
    "#             \"OFF\",\n",
    "#             \"OFF600\",\n",
    "#             \"SBAPERCENT\",\n",
    "#         ]\n",
    "#     ].head(10)\n",
    "# )"
   ]
  },
  {
   "cell_type": "code",
   "execution_count": null,
   "metadata": {},
   "outputs": [
    {
     "name": "stdout",
     "output_type": "stream",
     "text": [
      "                Name  POS  wPMAASeason  wRunsPSeason  AdjustedPANow  \\\n",
      "88  Vincent Thompson    3     4.550480      3.447504     333.347533   \n",
      "89   Dominic Stoller    3    -0.666814     -3.809139     329.656882   \n",
      "90       Payton Horn    3    -5.190844     -6.759935     320.912105   \n",
      "91        Max Keever    3     2.799060      4.616879     319.066780   \n",
      "92    Alijah Delnero    3   -14.976859    -11.469185     316.820475   \n",
      "\n",
      "        wPMAdj   wPMAAAdj  ARMAAAdj  FRMAAAdj    EAAAdj  DPAAdj   runsPAdj  \n",
      "88  284.165110   5.252012       0.0       0.0 -0.053314     0.0   3.978994  \n",
      "89  275.064023  -0.761094       0.0       0.0  5.035848     0.0  -4.347707  \n",
      "90  262.740727  -5.767603       0.0       0.0  4.247113     0.0  -7.511037  \n",
      "91  270.056522   3.092183       0.0       0.0 -3.708306     0.0   5.100367  \n",
      "92  248.656070 -16.428778       0.0       0.0  0.345962     0.0 -12.581055  \n"
     ]
    }
   ],
   "source": [
    "df_player_fielding_stats = fielding.calculate_player_fielding_stats(df_player_fielding_stats)\n",
    "\n",
    "\n",
    "filt = (df_player_fielding_stats['POS'] == 4)\n",
    "\n",
    "filtered_df = df_player_fielding_stats[filt]\n",
    "\n",
    "print(\n",
    "     filtered_df[\n",
    "         [\n",
    "             \"Name\",\n",
    "             \"POS\",\n",
    "             \"wPMAASeason\",\n",
    "             \"wRunsPSeason\",\n",
    "             \"AdjustedPANow\",\n",
    "             \"wPMAdj\",\n",
    "             \"wPMAAAdj\",\n",
    "             \"ARMAAAdj\",\n",
    "             \"FRMAAAdj\",\n",
    "             \"EAAAdj\",\n",
    "             \"DPAAdj\",\n",
    "             \"runsPAdj\",\n",
    "#             \"SBAPERCENT\",\n",
    "         ]\n",
    "     ].head(5)\n",
    ")\n"
   ]
  },
  {
   "cell_type": "code",
   "execution_count": null,
   "metadata": {},
   "outputs": [],
   "source": []
  }
 ],
 "metadata": {
  "kernelspec": {
   "display_name": "Python 3 (ipykernel)",
   "language": "python",
   "name": "python3"
  },
  "language_info": {
   "codemirror_mode": {
    "name": "ipython",
    "version": 3
   },
   "file_extension": ".py",
   "mimetype": "text/x-python",
   "name": "python",
   "nbconvert_exporter": "python",
   "pygments_lexer": "ipython3",
   "version": "3.13.2"
  }
 },
 "nbformat": 4,
 "nbformat_minor": 2
}
