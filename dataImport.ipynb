{
 "cells": [
  {
   "cell_type": "code",
   "execution_count": 63,
   "metadata": {},
   "outputs": [],
   "source": [
    "import pandas as pd\n",
    "from stats import woba"
   ]
  },
  {
   "cell_type": "code",
   "execution_count": 64,
   "metadata": {},
   "outputs": [],
   "source": [
    "season = 2036\n",
    "league = 'TGS'\n",
    "file = f\"files/{league}/{season}/TGS-{season}-Hitting.csv\""
   ]
  },
  {
   "cell_type": "code",
   "execution_count": 65,
   "metadata": {},
   "outputs": [],
   "source": [
    "\n",
    "df = pd.read_csv(file, index_col='ID')\n"
   ]
  },
  {
   "cell_type": "code",
   "execution_count": 66,
   "metadata": {},
   "outputs": [
    {
     "name": "stdout",
     "output_type": "stream",
     "text": [
      "  Event  wOBA Weight\n",
      "0    BB     0.695496\n",
      "1   HBP     0.725426\n",
      "2    1B     0.881058\n",
      "3    2B     1.240209\n",
      "4    3B     1.563445\n",
      "5    HR     1.994289\n",
      "6    SB     0.239434\n",
      "7    CS    -0.509073\n"
     ]
    }
   ],
   "source": [
    "league_totals = {\n",
    "    'PA': df['PA'].sum(),\n",
    "    'AB': df['AB'].sum(),\n",
    "    'R': df['R'].sum(),\n",
    "    'H': df['H'].sum(),\n",
    "    '1B': df['1B'].sum(),\n",
    "    '2B': df['2B'].sum(),\n",
    "    '3B': df['3B'].sum(),\n",
    "    'HR': df['HR'].sum(),\n",
    "    'BB': df['BB'].sum(),\n",
    "    'IBB': df['IBB'].sum(),\n",
    "    'HBP': df['HP'].sum(),\n",
    "    'SO' : df['SO'].sum(),\n",
    "    'SF': df['SF'].sum(),\n",
    "    'SH': df['SH'].sum(),\n",
    "    'GIDP': df['GIDP'].sum(),\n",
    "    'SB': df['SB'].sum(),\n",
    "    'CS': df['CS'].sum(),\n",
    "    'UBR': df['UBR'].sum()\n",
    "}\n",
    "\n",
    "df_woba = pd.DataFrame(list(woba.calc_woba_coefficients(league_totals).items()), columns=['Event', 'wOBA Weight'])\n",
    "print(df_woba)"
   ]
  }
 ],
 "metadata": {
  "kernelspec": {
   "display_name": "Python 3 (ipykernel)",
   "language": "python",
   "name": "python3"
  },
  "language_info": {
   "codemirror_mode": {
    "name": "ipython",
    "version": 3
   },
   "file_extension": ".py",
   "mimetype": "text/x-python",
   "name": "python",
   "nbconvert_exporter": "python",
   "pygments_lexer": "ipython3",
   "version": "3.13.2"
  }
 },
 "nbformat": 4,
 "nbformat_minor": 2
}
