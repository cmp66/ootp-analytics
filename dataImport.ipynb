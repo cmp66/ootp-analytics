{
 "cells": [
  {
   "cell_type": "code",
   "execution_count": 1,
   "metadata": {},
   "outputs": [],
   "source": [
    "import pandas as pd\n",
    "from stats import woba, batting"
   ]
  },
  {
   "cell_type": "code",
   "execution_count": 2,
   "metadata": {},
   "outputs": [],
   "source": [
    "season = 2036\n",
    "league = \"TGS\"\n",
    "file = f\"files/{league}/{season}/TGS-{season}-Hitting.csv\""
   ]
  },
  {
   "cell_type": "code",
   "execution_count": 3,
   "metadata": {},
   "outputs": [],
   "source": [
    "df_player_stats = pd.read_csv(file, index_col=\"ID\")"
   ]
  },
  {
   "cell_type": "code",
   "execution_count": 4,
   "metadata": {},
   "outputs": [
    {
     "name": "stdout",
     "output_type": "stream",
     "text": [
      "                      Value  season league\n",
      "Stat                                      \n",
      "run_value_bb       0.315115    2036    TGS\n",
      "run_value_hp       0.340115    2036    TGS\n",
      "run_value_1B       0.470115    2036    TGS\n",
      "run_value_2B       0.770115    2036    TGS\n",
      "run_value_3B       1.040115    2036    TGS\n",
      "run_value_hr       1.400000    2036    TGS\n",
      "run_value_sb       0.200000    2036    TGS\n",
      "run_value_cs      -0.425230    2036    TGS\n",
      "coef_BB            0.695496    2036    TGS\n",
      "coef_HP            0.725426    2036    TGS\n",
      "coef_1B            0.881058    2036    TGS\n",
      "coef_2B            1.240209    2036    TGS\n",
      "coef_3B            1.563445    2036    TGS\n",
      "coef_HR            1.994289    2036    TGS\n",
      "coef_SB            0.239434    2036    TGS\n",
      "coef_CS           -0.509073    2036    TGS\n",
      "RUNS_PER_OUT       0.175115    2036    TGS\n",
      "PRO_NON_OUTS   64487.000000    2036    TGS\n",
      "UNPRO_OUTS    138143.000000    2036    TGS\n",
      "TOTAL_RUNS     36723.258004    2036    TGS\n",
      "RUNS_PLUS          0.569468    2036    TGS\n",
      "RUNS_MINUS         0.265835    2036    TGS\n",
      "wOBA_SCALE         1.197171    2036    TGS\n",
      "wSB                0.008274    2036    TGS\n",
      "wOBA               0.322328    2036    TGS\n",
      "BABIP              0.298597    2036    TGS\n",
      "XBH_RATE           0.250608    2036    TGS\n",
      "STEAL_RATE         0.115710    2036    TGS\n",
      "SB_RATE            0.793239    2036    TGS\n",
      "UBR               -0.001298    2036    TGS\n",
      "3B_RATE            0.092492    2036    TGS\n",
      "K_RATE             0.227956    2036    TGS\n",
      "uBB                0.081921    2036    TGS\n",
      "HR_RATE            0.034276    2036    TGS\n",
      "RUNS_PER_PA        0.123090    2036    TGS\n",
      "HP_RATE            0.008990    2036    TGS\n"
     ]
    }
   ],
   "source": [
    "league_totals = {\n",
    "    \"PA\": df_player_stats[\"PA\"].sum(),\n",
    "    \"AB\": df_player_stats[\"AB\"].sum(),\n",
    "    \"R\": df_player_stats[\"R\"].sum(),\n",
    "    \"H\": df_player_stats[\"H\"].sum(),\n",
    "    \"1B\": df_player_stats[\"1B\"].sum(),\n",
    "    \"2B\": df_player_stats[\"2B\"].sum(),\n",
    "    \"3B\": df_player_stats[\"3B\"].sum(),\n",
    "    \"HR\": df_player_stats[\"HR\"].sum(),\n",
    "    \"BB\": df_player_stats[\"BB\"].sum(),\n",
    "    \"IBB\": df_player_stats[\"IBB\"].sum(),\n",
    "    \"HP\": df_player_stats[\"HP\"].sum(),\n",
    "    \"SO\": df_player_stats[\"SO\"].sum(),\n",
    "    \"SF\": df_player_stats[\"SF\"].sum(),\n",
    "    \"SH\": df_player_stats[\"SH\"].sum(),\n",
    "    \"GIDP\": df_player_stats[\"GIDP\"].sum(),\n",
    "    \"SB\": df_player_stats[\"SB\"].sum(),\n",
    "    \"CS\": df_player_stats[\"CS\"].sum(),\n",
    "    \"UBR\": df_player_stats[\"UBR\"].sum(),\n",
    "}\n",
    "\n",
    "df_lg_stat = pd.DataFrame(\n",
    "    list(woba.calc_league_data(league_totals).items()), columns=[\"Stat\", \"Value\"]\n",
    ")\n",
    "df_lg_stat[\"season\"] = season\n",
    "df_lg_stat[\"league\"] = league\n",
    "df_lg_stat.set_index(\"Stat\", inplace=True)\n",
    "print(df_lg_stat)"
   ]
  },
  {
   "cell_type": "code",
   "execution_count": 7,
   "metadata": {},
   "outputs": [],
   "source": [
    "df_player_stats = batting.calculate_player_batting_stats(df_player_stats, df_lg_stat)"
   ]
  },
  {
   "cell_type": "code",
   "execution_count": null,
   "metadata": {},
   "outputs": [
    {
     "name": "stdout",
     "output_type": "stream",
     "text": [
      "                   Name      wOBA       wSB     UBRAA       wRAA       OBP  \\\n",
      "ID                                                                           \n",
      "32285     Hector Alaniz  0.430908 -1.745755 -2.463822  66.481090  0.414734   \n",
      "33931        José Pérez  0.390934  3.283252  6.073872  41.718896  0.376374   \n",
      "11425       Brad Bowman  0.367756 -1.057605 -4.871573  27.434813  0.344398   \n",
      "24847    Caleb Korsmark  0.324633 -1.289270 -2.719636   1.380432  0.334728   \n",
      "27753         Evan Capo  0.365157  2.985194 -2.581981  25.615046  0.375698   \n",
      "30613      Alan Salerno  0.400366 -3.202036 -3.633978  46.150802  0.439266   \n",
      "12558        Tarek Bobo  0.382961  1.109913  4.402438  35.756428  0.383853   \n",
      "30559    Alijah Delnero  0.357025 -1.648310 -2.154693  20.084987  0.340548   \n",
      "31965       Liam Mallen  0.400496 -1.729207 -1.063822  45.183507  0.410405   \n",
      "30567  Vincent Thompson  0.387725 -1.382938  2.105055  37.801170  0.355491   \n",
      "\n",
      "            BSR        OFF     OFF600  SBAPERCENT  \n",
      "ID                                                 \n",
      "32285 -4.209577  62.271513  50.972589    0.000000  \n",
      "33931  9.357124  51.076020  42.095621    0.308989  \n",
      "11425 -5.929179  21.505634  17.846999    0.006173  \n",
      "24847 -4.008905  -2.628473  -2.199559    0.005464  \n",
      "27753  0.403213  26.018259  21.803010    0.226131  \n",
      "30613 -6.836014  39.314788  33.317617    0.015326  \n",
      "12558  5.512351  41.268779  35.072616    0.205882  \n",
      "30559 -3.803003  16.281984  14.096956    0.011561  \n",
      "31965 -2.793030  42.390478  36.754749    0.000000  \n",
      "30567  0.722117  38.523287  33.401694    0.056250  \n"
     ]
    }
   ],
   "source": [
    "# print(\n",
    "#     df_player_stats[\n",
    "#         [\n",
    "#             \"Name\",\n",
    "#             \"wOBA\",\n",
    "#             \"wSB\",\n",
    "#             \"UBRAA\",\n",
    "#             \"wRAA\",\n",
    "#             \"OBP\",\n",
    "#             \"BSR\",\n",
    "#             \"OFF\",\n",
    "#             \"OFF600\",\n",
    "#             \"SBAPERCENT\",\n",
    "#         ]\n",
    "#     ].head(10)\n",
    "# )"
   ]
  },
  {
   "cell_type": "code",
   "execution_count": null,
   "metadata": {},
   "outputs": [],
   "source": []
  }
 ],
 "metadata": {
  "kernelspec": {
   "display_name": "Python 3 (ipykernel)",
   "language": "python",
   "name": "python3"
  },
  "language_info": {
   "codemirror_mode": {
    "name": "ipython",
    "version": 3
   },
   "file_extension": ".py",
   "mimetype": "text/x-python",
   "name": "python",
   "nbconvert_exporter": "python",
   "pygments_lexer": "ipython3",
   "version": "3.13.2"
  }
 },
 "nbformat": 4,
 "nbformat_minor": 2
}
