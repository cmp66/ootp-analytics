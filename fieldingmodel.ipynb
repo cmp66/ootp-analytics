{
 "cells": [
  {
   "cell_type": "code",
   "execution_count": 1,
   "metadata": {},
   "outputs": [
    {
     "name": "stderr",
     "output_type": "stream",
     "text": [
      "/home/wahoo/.pyenv/versions/3.13.2/envs/ootp-analytics/lib/python3.13/site-packages/tqdm/auto.py:21: TqdmWarning: IProgress not found. Please update jupyter and ipywidgets. See https://ipywidgets.readthedocs.io/en/stable/user_install.html\n",
      "  from .autonotebook import tqdm as notebook_tqdm\n"
     ]
    }
   ],
   "source": [
    "import pandas as pd\n",
    "import torch\n",
    "from model.FieldingModel import FieldingModel\n"
   ]
  },
  {
   "cell_type": "code",
   "execution_count": null,
   "metadata": {},
   "outputs": [],
   "source": [
    "league =  'BZ'\n",
    "season_start = 2016\n",
    "season_end = 2064\n",
    "ip_limit = 900\n",
    "epochs = 10000\n",
    "positions = [9,8,7,6,5,4,3,2]\n",
    "ratings_type = \"Mixed\""
   ]
  },
  {
   "cell_type": "code",
   "execution_count": 3,
   "metadata": {},
   "outputs": [
    {
     "name": "stdout",
     "output_type": "stream",
     "text": [
      "\n",
      "Training model for position 9\n",
      "Empty DataFrame\n",
      "Columns: [WT, SPE, OF RNG, OF ARM, OF ERR, RF, ID, runsPAdjSeason]\n",
      "Index: []\n",
      "(1124, 8)\n",
      "Epoch [2000/6000], Best Loss: 6.5352664\n",
      "Epoch [4000/6000], Best Loss: 5.8319268\n",
      "Epoch [6000/6000], Best Loss: 5.4451752\n",
      "Epoch [5999/6000], Loss: 5.4597936\n",
      "Test Mean Squared Error: 8.1150904\n",
      "      WT  SPE  OF RNG  OF ARM  OF ERR  RF     ID  Predictions\n",
      "885  201    4       8       8       7   9  66260    20.376932\n",
      "346  199    7       8       7       4   8  57387    17.185841\n",
      "421  189    8       8       9       6   8  58571    15.750382\n",
      "603  202    9       7       6       4   6  60529    15.396585\n",
      "799  204    5       7       8       5   8  63218    14.790350\n",
      "780  193    8       7       7       7   7  62583    13.372055\n",
      "616  196    8       7       7       7   7  60582    12.096706\n",
      "41   201    6       7       7      10   8  49508    11.794188\n",
      "901  207    6       6       8       7   7  68571    11.090816\n",
      "307  200    8       7       8       7   7  56589    10.165852\n",
      "\n",
      "Training model for position 8\n",
      "Empty DataFrame\n",
      "Columns: [WT, SPE, OF RNG, OF ARM, OF ERR, CF, runsPAdjSeason]\n",
      "Index: []\n",
      "(1291, 7)\n",
      "Epoch [2000/6000], Best Loss: 8.0014935\n",
      "Epoch [4000/6000], Best Loss: 7.3764195\n",
      "Epoch [6000/6000], Best Loss: 7.0036259\n",
      "Epoch [5999/6000], Loss: 7.1801481\n",
      "Test Mean Squared Error: 9.8429022\n",
      "      WT  SPE  OF RNG  OF ARM  OF ERR  CF  Predictions     ID\n",
      "366  200    9      10       9       6   9    27.964027  57862\n",
      "545  199    9       9       8       3   8    27.612696  59838\n",
      "624  202    9       9       7       6   7    24.188267  60617\n",
      "339  200    8       9       6       6   7    22.064611  57298\n",
      "201  195    7       8       9       5   7    21.250875  53965\n",
      "882  177    8       8       7       5   6    21.144186  65951\n",
      "766  201    7       8       7       8   7    20.581421  62316\n",
      "323  199    8       8       7       6   7    20.547930  57071\n",
      "52   203    8       8       7       8   7    18.753847  50609\n",
      "119  202    8       8       5       6   6    17.912169  52681\n",
      "\n",
      "Training model for position 7\n",
      "Empty DataFrame\n",
      "Columns: [WT, SPE, OF RNG, OF ARM, OF ERR, LF, runsPAdjSeason]\n",
      "Index: []\n",
      "(1147, 7)\n"
     ]
    },
    {
     "ename": "KeyboardInterrupt",
     "evalue": "",
     "output_type": "error",
     "traceback": [
      "\u001b[31m---------------------------------------------------------------------------\u001b[39m",
      "\u001b[31mKeyboardInterrupt\u001b[39m                         Traceback (most recent call last)",
      "\u001b[36mCell\u001b[39m\u001b[36m \u001b[39m\u001b[32mIn[3]\u001b[39m\u001b[32m, line 6\u001b[39m\n\u001b[32m      3\u001b[39m fieldingModel = FieldingModel(league, season_start, season_end, position, ratings_type)\n\u001b[32m      4\u001b[39m fieldingModel.load_data(ip_limit)\n\u001b[32m----> \u001b[39m\u001b[32m6\u001b[39m epoch_count, loss = \u001b[43mfieldingModel\u001b[49m\u001b[43m.\u001b[49m\u001b[43mtrain\u001b[49m\u001b[43m(\u001b[49m\u001b[43mepochs\u001b[49m\u001b[43m)\u001b[49m\n\u001b[32m      7\u001b[39m \u001b[38;5;28mprint\u001b[39m(\u001b[33mf\u001b[39m\u001b[33m\"\u001b[39m\u001b[33mEpoch [\u001b[39m\u001b[38;5;132;01m{\u001b[39;00mepoch_count\u001b[38;5;132;01m}\u001b[39;00m\u001b[33m/\u001b[39m\u001b[38;5;132;01m{\u001b[39;00mepochs\u001b[38;5;132;01m}\u001b[39;00m\u001b[33m], Loss: \u001b[39m\u001b[38;5;132;01m{\u001b[39;00mloss\u001b[38;5;132;01m:\u001b[39;00m\u001b[33m.7f\u001b[39m\u001b[38;5;132;01m}\u001b[39;00m\u001b[33m\"\u001b[39m)\n\u001b[32m      9\u001b[39m test_loss = fieldingModel.evaluate()\n",
      "\u001b[36mFile \u001b[39m\u001b[32m/mnt/c/Projects/ootp-analytics/model/FieldingModel.py:132\u001b[39m, in \u001b[36mFieldingModel.train\u001b[39m\u001b[34m(self, num_epochs)\u001b[39m\n\u001b[32m    131\u001b[39m \u001b[38;5;28;01mdef\u001b[39;00m\u001b[38;5;250m \u001b[39m\u001b[34mtrain\u001b[39m(\u001b[38;5;28mself\u001b[39m, num_epochs: \u001b[38;5;28mint\u001b[39m):\n\u001b[32m--> \u001b[39m\u001b[32m132\u001b[39m     \u001b[38;5;28;01mreturn\u001b[39;00m \u001b[38;5;28;43mself\u001b[39;49m\u001b[43m.\u001b[49m\u001b[43mmodel\u001b[49m\u001b[43m.\u001b[49m\u001b[43mtrain\u001b[49m\u001b[43m(\u001b[49m\u001b[43mnum_epochs\u001b[49m\u001b[43m)\u001b[49m\n",
      "\u001b[36mFile \u001b[39m\u001b[32m/mnt/c/Projects/ootp-analytics/model/__init__.py:409\u001b[39m, in \u001b[36mModeler.train\u001b[39m\u001b[34m(self, num_epochs)\u001b[39m\n\u001b[32m    408\u001b[39m \u001b[38;5;28;01mdef\u001b[39;00m\u001b[38;5;250m \u001b[39m\u001b[34mtrain\u001b[39m(\u001b[38;5;28mself\u001b[39m, num_epochs: \u001b[38;5;28mint\u001b[39m):\n\u001b[32m--> \u001b[39m\u001b[32m409\u001b[39m     \u001b[38;5;28;01mreturn\u001b[39;00m \u001b[38;5;28;43mself\u001b[39;49m\u001b[43m.\u001b[49m\u001b[43mmodel\u001b[49m\u001b[43m.\u001b[49m\u001b[43mtrain\u001b[49m\u001b[43m(\u001b[49m\u001b[43mnum_epochs\u001b[49m\u001b[43m)\u001b[49m\n",
      "\u001b[36mFile \u001b[39m\u001b[32m/mnt/c/Projects/ootp-analytics/model/__init__.py:308\u001b[39m, in \u001b[36mRegressionRunner.train\u001b[39m\u001b[34m(self, num_epochs)\u001b[39m\n\u001b[32m    306\u001b[39m loss = \u001b[38;5;28mself\u001b[39m.criterion(outputs, \u001b[38;5;28mself\u001b[39m.y_train_tensor)\n\u001b[32m    307\u001b[39m loss.backward()\n\u001b[32m--> \u001b[39m\u001b[32m308\u001b[39m \u001b[38;5;28;43mself\u001b[39;49m\u001b[43m.\u001b[49m\u001b[43moptimizer\u001b[49m\u001b[43m.\u001b[49m\u001b[43mstep\u001b[49m\u001b[43m(\u001b[49m\u001b[43m)\u001b[49m\n\u001b[32m    310\u001b[39m \u001b[38;5;28;01mif\u001b[39;00m \u001b[38;5;28mfloat\u001b[39m(loss.item()) < best_test:\n\u001b[32m    311\u001b[39m     \u001b[38;5;66;03m# best_weights = copy.deepcopy(self.model.state_dict())\u001b[39;00m\n\u001b[32m    312\u001b[39m     eval_result = \u001b[38;5;28mself\u001b[39m.evaluate()\n",
      "\u001b[36mFile \u001b[39m\u001b[32m~/.pyenv/versions/3.13.2/envs/ootp-analytics/lib/python3.13/site-packages/torch/optim/optimizer.py:478\u001b[39m, in \u001b[36mOptimizer.profile_hook_step.<locals>.wrapper\u001b[39m\u001b[34m(*args, **kwargs)\u001b[39m\n\u001b[32m    476\u001b[39m \u001b[38;5;28mself\u001b[39m = cast(Optimizer, \u001b[38;5;28mself\u001b[39m)\n\u001b[32m    477\u001b[39m profile_name = \u001b[33mf\u001b[39m\u001b[33m\"\u001b[39m\u001b[33mOptimizer.step#\u001b[39m\u001b[38;5;132;01m{\u001b[39;00m\u001b[38;5;28mself\u001b[39m.\u001b[34m__class__\u001b[39m.\u001b[34m__name__\u001b[39m\u001b[38;5;132;01m}\u001b[39;00m\u001b[33m.step\u001b[39m\u001b[33m\"\u001b[39m\n\u001b[32m--> \u001b[39m\u001b[32m478\u001b[39m \u001b[43m\u001b[49m\u001b[38;5;28;43;01mwith\u001b[39;49;00m\u001b[43m \u001b[49m\u001b[43mtorch\u001b[49m\u001b[43m.\u001b[49m\u001b[43mautograd\u001b[49m\u001b[43m.\u001b[49m\u001b[43mprofiler\u001b[49m\u001b[43m.\u001b[49m\u001b[43mrecord_function\u001b[49m\u001b[43m(\u001b[49m\u001b[43mprofile_name\u001b[49m\u001b[43m)\u001b[49m\u001b[43m:\u001b[49m\n\u001b[32m    479\u001b[39m \u001b[43m    \u001b[49m\u001b[38;5;66;43;03m# call optimizer step pre hooks\u001b[39;49;00m\n\u001b[32m    480\u001b[39m \u001b[43m    \u001b[49m\u001b[38;5;28;43;01mfor\u001b[39;49;00m\u001b[43m \u001b[49m\u001b[43mpre_hook\u001b[49m\u001b[43m \u001b[49m\u001b[38;5;129;43;01min\u001b[39;49;00m\u001b[43m \u001b[49m\u001b[43mchain\u001b[49m\u001b[43m(\u001b[49m\n\u001b[32m    481\u001b[39m \u001b[43m        \u001b[49m\u001b[43m_global_optimizer_pre_hooks\u001b[49m\u001b[43m.\u001b[49m\u001b[43mvalues\u001b[49m\u001b[43m(\u001b[49m\u001b[43m)\u001b[49m\u001b[43m,\u001b[49m\n\u001b[32m    482\u001b[39m \u001b[43m        \u001b[49m\u001b[38;5;28;43mself\u001b[39;49m\u001b[43m.\u001b[49m\u001b[43m_optimizer_step_pre_hooks\u001b[49m\u001b[43m.\u001b[49m\u001b[43mvalues\u001b[49m\u001b[43m(\u001b[49m\u001b[43m)\u001b[49m\u001b[43m,\u001b[49m\n\u001b[32m    483\u001b[39m \u001b[43m    \u001b[49m\u001b[43m)\u001b[49m\u001b[43m:\u001b[49m\n\u001b[32m    484\u001b[39m \u001b[43m        \u001b[49m\u001b[43mresult\u001b[49m\u001b[43m \u001b[49m\u001b[43m=\u001b[49m\u001b[43m \u001b[49m\u001b[43mpre_hook\u001b[49m\u001b[43m(\u001b[49m\u001b[38;5;28;43mself\u001b[39;49m\u001b[43m,\u001b[49m\u001b[43m \u001b[49m\u001b[43margs\u001b[49m\u001b[43m,\u001b[49m\u001b[43m \u001b[49m\u001b[43mkwargs\u001b[49m\u001b[43m)\u001b[49m\n",
      "\u001b[36mFile \u001b[39m\u001b[32m~/.pyenv/versions/3.13.2/envs/ootp-analytics/lib/python3.13/site-packages/torch/autograd/profiler.py:769\u001b[39m, in \u001b[36mrecord_function.__exit__\u001b[39m\u001b[34m(self, exc_type, exc_value, traceback)\u001b[39m\n\u001b[32m    767\u001b[39m \u001b[38;5;28;01mif\u001b[39;00m \u001b[38;5;129;01mnot\u001b[39;00m torch.jit.is_scripting():\n\u001b[32m    768\u001b[39m     \u001b[38;5;28;01mwith\u001b[39;00m torch._C.DisableTorchFunctionSubclass():\n\u001b[32m--> \u001b[39m\u001b[32m769\u001b[39m         \u001b[43mtorch\u001b[49m\u001b[43m.\u001b[49m\u001b[43mops\u001b[49m\u001b[43m.\u001b[49m\u001b[43mprofiler\u001b[49m\u001b[43m.\u001b[49m\u001b[43m_record_function_exit\u001b[49m\u001b[43m.\u001b[49m\u001b[43m_RecordFunction\u001b[49m\u001b[43m(\u001b[49m\u001b[43mrecord\u001b[49m\u001b[43m)\u001b[49m\n\u001b[32m    770\u001b[39m \u001b[38;5;28;01melse\u001b[39;00m:\n\u001b[32m    771\u001b[39m     torch.ops.profiler._record_function_exit(record)\n",
      "\u001b[36mFile \u001b[39m\u001b[32m~/.pyenv/versions/3.13.2/envs/ootp-analytics/lib/python3.13/site-packages/torch/_ops.py:960\u001b[39m, in \u001b[36mTorchBindOpOverload.__call__\u001b[39m\u001b[34m(self, *args, **kwargs)\u001b[39m\n\u001b[32m    958\u001b[39m     \u001b[38;5;28;01mwith\u001b[39;00m \u001b[38;5;28mself\u001b[39m._register_as_effectful_op_temporarily():\n\u001b[32m    959\u001b[39m         \u001b[38;5;28;01mreturn\u001b[39;00m \u001b[38;5;28mself\u001b[39m._dispatch_in_python(args, kwargs, \u001b[38;5;28mself\u001b[39m._fallthrough_keys())\n\u001b[32m--> \u001b[39m\u001b[32m960\u001b[39m \u001b[38;5;28;01mreturn\u001b[39;00m \u001b[38;5;28;43mself\u001b[39;49m\u001b[43m.\u001b[49m\u001b[43m_op\u001b[49m\u001b[43m(\u001b[49m\u001b[43m*\u001b[49m\u001b[43margs\u001b[49m\u001b[43m,\u001b[49m\u001b[43m \u001b[49m\u001b[43m*\u001b[49m\u001b[43m*\u001b[49m\u001b[43mkwargs\u001b[49m\u001b[43m)\u001b[49m\n",
      "\u001b[31mKeyboardInterrupt\u001b[39m: "
     ]
    }
   ],
   "source": [
    "\n",
    "    \n",
    "for position in positions:\n",
    "    print(f\"\\r\\nTraining model for position {position}\")\n",
    "    fieldingModel = FieldingModel(league, season_start, season_end, position, ratings_type)\n",
    "    fieldingModel.load_data(ip_limit)\n",
    "\n",
    "    epoch_count, loss = fieldingModel.train(epochs)\n",
    "    print(f\"Epoch [{epoch_count}/{epochs}], Loss: {loss:.7f}\")\n",
    "\n",
    "    test_loss = fieldingModel.evaluate()\n",
    "    print(f\"Test Mean Squared Error: {test_loss:.7f}\")\n",
    "\n",
    "    #feature_importance = fieldingModel.feature_importance()\n",
    "    #print(feature_importance)\n",
    "\n",
    "    fieldingModel.save_model()\n",
    "\n",
    "    predictions = fieldingModel.predict(season_end+1, ip_limit)\n",
    "    predictions.sort_values(by='Predictions', ascending=False, inplace=True)\n",
    "    print(predictions.head(10))"
   ]
  },
  {
   "cell_type": "code",
   "execution_count": null,
   "metadata": {},
   "outputs": [],
   "source": []
  }
 ],
 "metadata": {
  "kernelspec": {
   "display_name": "Python 3 (ipykernel)",
   "language": "python",
   "name": "python3"
  },
  "language_info": {
   "codemirror_mode": {
    "name": "ipython",
    "version": 3
   },
   "file_extension": ".py",
   "mimetype": "text/x-python",
   "name": "python",
   "nbconvert_exporter": "python",
   "pygments_lexer": "ipython3",
   "version": "3.13.2"
  }
 },
 "nbformat": 4,
 "nbformat_minor": 2
}
