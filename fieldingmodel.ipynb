{
 "cells": [
  {
   "cell_type": "code",
   "execution_count": 1,
   "metadata": {},
   "outputs": [
    {
     "name": "stderr",
     "output_type": "stream",
     "text": [
      "/home/wahoo/.pyenv/versions/3.13.2/envs/ootp-analytics/lib/python3.13/site-packages/tqdm/auto.py:21: TqdmWarning: IProgress not found. Please update jupyter and ipywidgets. See https://ipywidgets.readthedocs.io/en/stable/user_install.html\n",
      "  from .autonotebook import tqdm as notebook_tqdm\n"
     ]
    }
   ],
   "source": [
    "import pandas as pd\n",
    "import torch\n",
    "from model.FieldingModel import FieldingModel\n"
   ]
  },
  {
   "cell_type": "code",
   "execution_count": 2,
   "metadata": {},
   "outputs": [],
   "source": [
    "league =  'BZ'\n",
    "season_start = 2016\n",
    "season_end = 2017\n",
    "positions = [9,8,7,6,5,4,3,2]\n",
    "ratings_type = \"Standard\""
   ]
  },
  {
   "cell_type": "code",
   "execution_count": null,
   "metadata": {},
   "outputs": [
    {
     "name": "stdout",
     "output_type": "stream",
     "text": [
      "\n",
      "Training model for position 9\n"
     ]
    },
    {
     "ename": "NameError",
     "evalue": "name 'season' is not defined",
     "output_type": "error",
     "traceback": [
      "\u001b[31m---------------------------------------------------------------------------\u001b[39m",
      "\u001b[31mNameError\u001b[39m                                 Traceback (most recent call last)",
      "\u001b[36mCell\u001b[39m\u001b[36m \u001b[39m\u001b[32mIn[3]\u001b[39m\u001b[32m, line 3\u001b[39m\n\u001b[32m      1\u001b[39m \u001b[38;5;28;01mfor\u001b[39;00m position \u001b[38;5;129;01min\u001b[39;00m positions:\n\u001b[32m      2\u001b[39m     \u001b[38;5;28mprint\u001b[39m(\u001b[33mf\u001b[39m\u001b[33m\"\u001b[39m\u001b[38;5;130;01m\\r\u001b[39;00m\u001b[38;5;130;01m\\n\u001b[39;00m\u001b[33mTraining model for position \u001b[39m\u001b[38;5;132;01m{\u001b[39;00mposition\u001b[38;5;132;01m}\u001b[39;00m\u001b[33m\"\u001b[39m)\n\u001b[32m----> \u001b[39m\u001b[32m3\u001b[39m     fieldingModel = FieldingModel(league, \u001b[43mseason\u001b[49m, season, position, ratings_type)\n\u001b[32m      4\u001b[39m     fieldingModel.load_data(position)\n\u001b[32m      6\u001b[39m     epoch_count, loss = fieldingModel.train(\u001b[32m5000\u001b[39m)\n",
      "\u001b[31mNameError\u001b[39m: name 'season' is not defined"
     ]
    }
   ],
   "source": [
    "\n",
    "    \n",
    "for position in positions:\n",
    "    print(f\"\\r\\nTraining model for position {position}\")\n",
    "    fieldingModel = FieldingModel(league, season_start, season_end, position, ratings_type)\n",
    "    fieldingModel.load_data(position)\n",
    "\n",
    "    epoch_count, loss = fieldingModel.train(5000)\n",
    "    print(f\"Epoch [{epoch_count}/{5000}], Loss: {loss:.7f}\")\n",
    "\n",
    "    test_loss = fieldingModel.evaluate()\n",
    "    print(f\"Test Mean Squared Error: {test_loss:.7f}\")\n",
    "\n",
    "    feature_importance = fieldingModel.feature_importance()\n",
    "    print(feature_importance)\n",
    "\n",
    "    fieldingModel.save_model()"
   ]
  }
 ],
 "metadata": {
  "kernelspec": {
   "display_name": "Python 3 (ipykernel)",
   "language": "python",
   "name": "python3"
  },
  "language_info": {
   "codemirror_mode": {
    "name": "ipython",
    "version": 3
   },
   "file_extension": ".py",
   "mimetype": "text/x-python",
   "name": "python",
   "nbconvert_exporter": "python",
   "pygments_lexer": "ipython3",
   "version": "3.13.2"
  }
 },
 "nbformat": 4,
 "nbformat_minor": 2
}
