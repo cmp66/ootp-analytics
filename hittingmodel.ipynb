{
 "cells": [
  {
   "cell_type": "code",
   "execution_count": 1,
   "metadata": {},
   "outputs": [
    {
     "name": "stderr",
     "output_type": "stream",
     "text": [
      "/home/wahoo/.pyenv/versions/3.13.2/envs/ootp-analytics/lib/python3.13/site-packages/tqdm/auto.py:21: TqdmWarning: IProgress not found. Please update jupyter and ipywidgets. See https://ipywidgets.readthedocs.io/en/stable/user_install.html\n",
      "  from .autonotebook import tqdm as notebook_tqdm\n"
     ]
    }
   ],
   "source": [
    "from model.HittingModel import HittingModel\n"
   ]
  },
  {
   "cell_type": "code",
   "execution_count": 2,
   "metadata": {},
   "outputs": [],
   "source": [
    "league = 'BZ'\n",
    "season_start = 2016\n",
    "season_end = 2064\n",
    "total_pa_limit = 10\n",
    "right_pa_limit = 0\n",
    "left_pa_limit = 0\n",
    "epochs = 8000\n",
    "ratings_type = \"Mixed\""
   ]
  },
  {
   "cell_type": "code",
   "execution_count": 3,
   "metadata": {},
   "outputs": [
    {
     "name": "stdout",
     "output_type": "stream",
     "text": [
      "(22363, 17)\n",
      "Empty DataFrame\n",
      "Columns: [BABIP, BA vR, BA vL, GAP vR, GAP vL, POW, POW vR, POW vL, EYE, EYE vR, EYE vL, K's, K vR, K vL, lgwOBA, lgOBP, wRAA600]\n",
      "Index: []\n",
      "Epoch [2000/8000], Best Loss: 11.8687010\n",
      "Epoch [4000/8000], Best Loss: 11.7069750\n",
      "Epoch [6000/8000], Best Loss: 11.5903873\n",
      "Epoch [8000/8000], Best Loss: 11.5323772\n",
      "Epoch [7999/8000], Loss: 11.5369396\n",
      "Test Error: 12.1401672\n",
      "     BABIP  BA vR  BA vL  GAP vR  GAP vL  POW  POW vR  POW vL  EYE  EYE vR  \\\n",
      "176     55     55     55      50      55   65      65      65   55      55   \n",
      "457     65     65     60      55      50   55      60      55   60      60   \n",
      "174     65     65     60      65      60   60      65      60   55      55   \n",
      "443     60     60     65      60      60   60      60      60   50      50   \n",
      "158     50     50     50      55      55   65      65      65   65      65   \n",
      "..     ...    ...    ...     ...     ...  ...     ...     ...  ...     ...   \n",
      "435     50     50     50      50      50   50      50      50   50      50   \n",
      "393     55     55     55      50      50   45      45      50   45      45   \n",
      "270     60     60     60      60      65   40      40      40   45      45   \n",
      "287     50     50     50      50      50   40      40      40   55      55   \n",
      "182     50     50     50      50      50   50      50      45   45      45   \n",
      "\n",
      "     EYE vL  K's  K vR  K vL    lgwOBA     lgOBP  Predictions     ID  \n",
      "176      55   70    70    70  0.314225  0.316947    43.362537  57269  \n",
      "457      60   70    70    65  0.314225  0.316947    40.030087  67573  \n",
      "174      55   55    55    55  0.314225  0.316947    39.847092  57191  \n",
      "443      50   65    65    65  0.314225  0.316947    37.606483  65139  \n",
      "158      65   55    55    55  0.314225  0.316947    35.692810  56556  \n",
      "..      ...  ...   ...   ...       ...       ...          ...    ...  \n",
      "435      50   55    55    55  0.314225  0.316947    -0.976151  64905  \n",
      "393      45   60    60    60  0.314225  0.316947    -0.978005  62332  \n",
      "270      45   60    60    60  0.314225  0.316947    -1.025687  59567  \n",
      "287      55   60    65    60  0.314225  0.316947    -1.518091  59877  \n",
      "182      45   65    65    65  0.314225  0.316947    -1.558058  57371  \n",
      "\n",
      "[200 rows x 18 columns]\n"
     ]
    }
   ],
   "source": [
    "hittingModel = HittingModel(league, season_start, season_end, ratings_type, \"total\")\n",
    "hittingModel.load_data(total_pa_limit)\n",
    "\n",
    "epoch_count, loss = hittingModel.train(epochs)\n",
    "print(f\"Epoch [{epoch_count}/{epochs}], Loss: {loss:.7f}\")\n",
    "\n",
    "test_loss = hittingModel.evaluate()\n",
    "print(f\"Test Error: {test_loss:.7f}\")\n",
    "\n",
    "#feature_importance = hittingModel.feature_importance()\n",
    "#print(feature_importance)\n",
    "\n",
    "hittingModel.save_model()\n",
    "predicthittingModel = HittingModel(league, season_end+1, season_end+1, ratings_type, \"total\")\n",
    "predicthittingModel.load_model()\n",
    "\n",
    "predictions = predicthittingModel.predict(season_end+1, total_pa_limit)\n",
    "predictions.sort_values(by='Predictions', ascending=False, inplace=True)\n",
    "print(predictions.head(200))\n"
   ]
  },
  {
   "cell_type": "code",
   "execution_count": null,
   "metadata": {},
   "outputs": [
    {
     "ename": "KeyError",
     "evalue": "\"['wOBA'] not in index\"",
     "output_type": "error",
     "traceback": [
      "\u001b[31m---------------------------------------------------------------------------\u001b[39m",
      "\u001b[31mKeyError\u001b[39m                                  Traceback (most recent call last)",
      "\u001b[36mCell\u001b[39m\u001b[36m \u001b[39m\u001b[32mIn[4]\u001b[39m\u001b[32m, line 2\u001b[39m\n\u001b[32m      1\u001b[39m righthittingModel = HittingModel(league, season_start, season_end, ratings_type, \u001b[33m\"\u001b[39m\u001b[33mright\u001b[39m\u001b[33m\"\u001b[39m)\n\u001b[32m----> \u001b[39m\u001b[32m2\u001b[39m \u001b[43mrighthittingModel\u001b[49m\u001b[43m.\u001b[49m\u001b[43mload_data\u001b[49m\u001b[43m(\u001b[49m\u001b[43mright_pa_limit\u001b[49m\u001b[43m)\u001b[49m\n\u001b[32m      4\u001b[39m epoch_count, loss = righthittingModel.train(epochs)\n\u001b[32m      5\u001b[39m \u001b[38;5;28mprint\u001b[39m(\u001b[33mf\u001b[39m\u001b[33m\"\u001b[39m\u001b[33mEpoch [\u001b[39m\u001b[38;5;132;01m{\u001b[39;00mepoch_count\u001b[38;5;132;01m}\u001b[39;00m\u001b[33m/\u001b[39m\u001b[38;5;132;01m{\u001b[39;00mepochs\u001b[38;5;132;01m}\u001b[39;00m\u001b[33m], Loss: \u001b[39m\u001b[38;5;132;01m{\u001b[39;00mloss\u001b[38;5;132;01m:\u001b[39;00m\u001b[33m.7f\u001b[39m\u001b[38;5;132;01m}\u001b[39;00m\u001b[33m\"\u001b[39m)\n",
      "\u001b[36mFile \u001b[39m\u001b[32m/mnt/c/Projects/ootp-analytics/model/HittingModel.py:197\u001b[39m, in \u001b[36mHittingModel.load_data\u001b[39m\u001b[34m(self, pa_limit)\u001b[39m\n\u001b[32m    194\u001b[39m \u001b[38;5;28;01mdef\u001b[39;00m\u001b[38;5;250m \u001b[39m\u001b[34mload_data\u001b[39m(\u001b[38;5;28mself\u001b[39m, pa_limit=\u001b[32m100\u001b[39m):\n\u001b[32m    196\u001b[39m     \u001b[38;5;28;01mfor\u001b[39;00m season \u001b[38;5;129;01min\u001b[39;00m \u001b[38;5;28mrange\u001b[39m(\u001b[38;5;28mint\u001b[39m(\u001b[38;5;28mself\u001b[39m.season_start), \u001b[38;5;28mint\u001b[39m(\u001b[38;5;28mself\u001b[39m.season_end) + \u001b[32m1\u001b[39m):\n\u001b[32m--> \u001b[39m\u001b[32m197\u001b[39m         filtered_data, df_id = \u001b[38;5;28;43mself\u001b[39;49m\u001b[43m.\u001b[49m\u001b[43mprepare_data\u001b[49m\u001b[43m(\u001b[49m\u001b[43mseason\u001b[49m\u001b[43m,\u001b[49m\u001b[43m \u001b[49m\u001b[43mpa_limit\u001b[49m\u001b[43m)\u001b[49m\n\u001b[32m    199\u001b[39m         \u001b[38;5;28mself\u001b[39m.filtered_data = (\n\u001b[32m    200\u001b[39m             filtered_data\n\u001b[32m    201\u001b[39m             \u001b[38;5;28;01mif\u001b[39;00m season == \u001b[38;5;28mint\u001b[39m(\u001b[38;5;28mself\u001b[39m.season_start)\n\u001b[32m    202\u001b[39m             \u001b[38;5;28;01melse\u001b[39;00m pd.concat([\u001b[38;5;28mself\u001b[39m.filtered_data, filtered_data])\n\u001b[32m    203\u001b[39m         )\n\u001b[32m    205\u001b[39m     \u001b[38;5;28mprint\u001b[39m(\u001b[38;5;28mself\u001b[39m.filtered_data.shape)\n",
      "\u001b[36mFile \u001b[39m\u001b[32m/mnt/c/Projects/ootp-analytics/model/HittingModel.py:192\u001b[39m, in \u001b[36mHittingModel.prepare_data\u001b[39m\u001b[34m(self, season, pa_limit)\u001b[39m\n\u001b[32m    189\u001b[39m master_data = hitting.merge(player_data, on=\u001b[33m\"\u001b[39m\u001b[33mID\u001b[39m\u001b[33m\"\u001b[39m)\n\u001b[32m    190\u001b[39m master_data = master_data[master_data[\u001b[33m\"\u001b[39m\u001b[33mPA\u001b[39m\u001b[33m\"\u001b[39m] >= pa_limit]\n\u001b[32m--> \u001b[39m\u001b[32m192\u001b[39m \u001b[38;5;28;01mreturn\u001b[39;00m \u001b[38;5;28;43mself\u001b[39;49m\u001b[43m.\u001b[49m\u001b[43mconform_data\u001b[49m\u001b[43m(\u001b[49m\u001b[43mmaster_data\u001b[49m\u001b[43m)\u001b[49m\n",
      "\u001b[36mFile \u001b[39m\u001b[32m/mnt/c/Projects/ootp-analytics/model/HittingModel.py:166\u001b[39m, in \u001b[36mHittingModel.conform_data\u001b[39m\u001b[34m(self, data)\u001b[39m\n\u001b[32m    161\u001b[39m \u001b[38;5;66;03m# for col in feature_values[self.vsType]:\u001b[39;00m\n\u001b[32m    162\u001b[39m \u001b[38;5;66;03m#     if col not in exclude_adj:\u001b[39;00m\n\u001b[32m    163\u001b[39m \u001b[38;5;66;03m#         data[col] = data[col].apply(convert_80_rating)\u001b[39;00m\n\u001b[32m    165\u001b[39m df_id = data[\u001b[33m\"\u001b[39m\u001b[33mID\u001b[39m\u001b[33m\"\u001b[39m]\n\u001b[32m--> \u001b[39m\u001b[32m166\u001b[39m filtered_data = \u001b[43mdata\u001b[49m\u001b[43m[\u001b[49m\u001b[43mfeature_values\u001b[49m\u001b[43m[\u001b[49m\u001b[38;5;28;43mself\u001b[39;49m\u001b[43m.\u001b[49m\u001b[43mvsType\u001b[49m\u001b[43m]\u001b[49m\u001b[43m \u001b[49m\u001b[43m+\u001b[49m\u001b[43m \u001b[49m\u001b[43m[\u001b[49m\u001b[43mtargets\u001b[49m\u001b[43m[\u001b[49m\u001b[38;5;28;43mself\u001b[39;49m\u001b[43m.\u001b[49m\u001b[43mvsType\u001b[49m\u001b[43m]\u001b[49m\u001b[43m[\u001b[49m\u001b[32;43m0\u001b[39;49m\u001b[43m]\u001b[49m\u001b[43m]\u001b[49m\u001b[43m]\u001b[49m\n\u001b[32m    168\u001b[39m \u001b[38;5;66;03m# create a dataset with a subset of the columns\u001b[39;00m\n\u001b[32m    169\u001b[39m \u001b[38;5;28mself\u001b[39m.conform_column_types(\n\u001b[32m    170\u001b[39m     filtered_data, feature_values[\u001b[38;5;28mself\u001b[39m.vsType] + targets[\u001b[38;5;28mself\u001b[39m.vsType]\n\u001b[32m    171\u001b[39m )\n",
      "\u001b[36mFile \u001b[39m\u001b[32m~/.pyenv/versions/3.13.2/envs/ootp-analytics/lib/python3.13/site-packages/pandas/core/frame.py:4108\u001b[39m, in \u001b[36mDataFrame.__getitem__\u001b[39m\u001b[34m(self, key)\u001b[39m\n\u001b[32m   4106\u001b[39m     \u001b[38;5;28;01mif\u001b[39;00m is_iterator(key):\n\u001b[32m   4107\u001b[39m         key = \u001b[38;5;28mlist\u001b[39m(key)\n\u001b[32m-> \u001b[39m\u001b[32m4108\u001b[39m     indexer = \u001b[38;5;28;43mself\u001b[39;49m\u001b[43m.\u001b[49m\u001b[43mcolumns\u001b[49m\u001b[43m.\u001b[49m\u001b[43m_get_indexer_strict\u001b[49m\u001b[43m(\u001b[49m\u001b[43mkey\u001b[49m\u001b[43m,\u001b[49m\u001b[43m \u001b[49m\u001b[33;43m\"\u001b[39;49m\u001b[33;43mcolumns\u001b[39;49m\u001b[33;43m\"\u001b[39;49m\u001b[43m)\u001b[49m[\u001b[32m1\u001b[39m]\n\u001b[32m   4110\u001b[39m \u001b[38;5;66;03m# take() does not accept boolean indexers\u001b[39;00m\n\u001b[32m   4111\u001b[39m \u001b[38;5;28;01mif\u001b[39;00m \u001b[38;5;28mgetattr\u001b[39m(indexer, \u001b[33m\"\u001b[39m\u001b[33mdtype\u001b[39m\u001b[33m\"\u001b[39m, \u001b[38;5;28;01mNone\u001b[39;00m) == \u001b[38;5;28mbool\u001b[39m:\n",
      "\u001b[36mFile \u001b[39m\u001b[32m~/.pyenv/versions/3.13.2/envs/ootp-analytics/lib/python3.13/site-packages/pandas/core/indexes/base.py:6200\u001b[39m, in \u001b[36mIndex._get_indexer_strict\u001b[39m\u001b[34m(self, key, axis_name)\u001b[39m\n\u001b[32m   6197\u001b[39m \u001b[38;5;28;01melse\u001b[39;00m:\n\u001b[32m   6198\u001b[39m     keyarr, indexer, new_indexer = \u001b[38;5;28mself\u001b[39m._reindex_non_unique(keyarr)\n\u001b[32m-> \u001b[39m\u001b[32m6200\u001b[39m \u001b[38;5;28;43mself\u001b[39;49m\u001b[43m.\u001b[49m\u001b[43m_raise_if_missing\u001b[49m\u001b[43m(\u001b[49m\u001b[43mkeyarr\u001b[49m\u001b[43m,\u001b[49m\u001b[43m \u001b[49m\u001b[43mindexer\u001b[49m\u001b[43m,\u001b[49m\u001b[43m \u001b[49m\u001b[43maxis_name\u001b[49m\u001b[43m)\u001b[49m\n\u001b[32m   6202\u001b[39m keyarr = \u001b[38;5;28mself\u001b[39m.take(indexer)\n\u001b[32m   6203\u001b[39m \u001b[38;5;28;01mif\u001b[39;00m \u001b[38;5;28misinstance\u001b[39m(key, Index):\n\u001b[32m   6204\u001b[39m     \u001b[38;5;66;03m# GH 42790 - Preserve name from an Index\u001b[39;00m\n",
      "\u001b[36mFile \u001b[39m\u001b[32m~/.pyenv/versions/3.13.2/envs/ootp-analytics/lib/python3.13/site-packages/pandas/core/indexes/base.py:6252\u001b[39m, in \u001b[36mIndex._raise_if_missing\u001b[39m\u001b[34m(self, key, indexer, axis_name)\u001b[39m\n\u001b[32m   6249\u001b[39m     \u001b[38;5;28;01mraise\u001b[39;00m \u001b[38;5;167;01mKeyError\u001b[39;00m(\u001b[33mf\u001b[39m\u001b[33m\"\u001b[39m\u001b[33mNone of [\u001b[39m\u001b[38;5;132;01m{\u001b[39;00mkey\u001b[38;5;132;01m}\u001b[39;00m\u001b[33m] are in the [\u001b[39m\u001b[38;5;132;01m{\u001b[39;00maxis_name\u001b[38;5;132;01m}\u001b[39;00m\u001b[33m]\u001b[39m\u001b[33m\"\u001b[39m)\n\u001b[32m   6251\u001b[39m not_found = \u001b[38;5;28mlist\u001b[39m(ensure_index(key)[missing_mask.nonzero()[\u001b[32m0\u001b[39m]].unique())\n\u001b[32m-> \u001b[39m\u001b[32m6252\u001b[39m \u001b[38;5;28;01mraise\u001b[39;00m \u001b[38;5;167;01mKeyError\u001b[39;00m(\u001b[33mf\u001b[39m\u001b[33m\"\u001b[39m\u001b[38;5;132;01m{\u001b[39;00mnot_found\u001b[38;5;132;01m}\u001b[39;00m\u001b[33m not in index\u001b[39m\u001b[33m\"\u001b[39m)\n",
      "\u001b[31mKeyError\u001b[39m: \"['wOBA'] not in index\""
     ]
    }
   ],
   "source": [
    "righthittingModel = HittingModel(league, season_start, season_end, ratings_type, \"right\")\n",
    "righthittingModel.load_data(right_pa_limit)\n",
    "\n",
    "epoch_count, loss = righthittingModel.train(epochs)\n",
    "print(f\"Epoch [{epoch_count}/{epochs}], Loss: {loss:.7f}\")\n",
    "\n",
    "test_loss = righthittingModel.evaluate()\n",
    "print(f\"Test Error: {test_loss:.7f}\")\n",
    "\n",
    "#feature_importance = righthittingModel.feature_importance()\n",
    "#print(feature_importance)\n",
    "\n",
    "righthittingModel.save_model()\n",
    "righthittingModel.load_model()\n",
    "\n",
    "predictions = righthittingModel.predict(season_end+1, right_pa_limit)\n",
    "predictions.sort_values(by='Predictions', ascending=False, inplace=True)\n",
    "print(predictions.head(10))"
   ]
  },
  {
   "cell_type": "code",
   "execution_count": null,
   "metadata": {},
   "outputs": [],
   "source": [
    "lefthittingModel = HittingModel(league, season_start, season_end, ratings_type, \"left\")\n",
    "lefthittingModel.load_data(left_pa_limit)\n",
    "\n",
    "epoch_count, loss = lefthittingModel.train(epochs)\n",
    "print(f\"Epoch [{epoch_count}/{epochs}], Loss: {loss:.7f}\")\n",
    "\n",
    "test_loss = lefthittingModel.evaluate()\n",
    "print(f\"Test Error: {test_loss:.7f}\")\n",
    "\n",
    "#feature_importance = lefthittingModel.feature_importance()\n",
    "#print(feature_importance)\n",
    "\n",
    "lefthittingModel.save_model()\n",
    "\n",
    "predictions = lefthittingModel.predict(season_end+1, left_pa_limit)\n",
    "predictions.sort_values(by='Predictions', ascending=False, inplace=True)\n",
    "print(predictions.head(10))"
   ]
  }
 ],
 "metadata": {
  "kernelspec": {
   "display_name": "Python 3 (ipykernel)",
   "language": "python",
   "name": "python3"
  },
  "language_info": {
   "codemirror_mode": {
    "name": "ipython",
    "version": 3
   },
   "file_extension": ".py",
   "mimetype": "text/x-python",
   "name": "python",
   "nbconvert_exporter": "python",
   "pygments_lexer": "ipython3",
   "version": "3.13.2"
  }
 },
 "nbformat": 4,
 "nbformat_minor": 2
}
