{
 "cells": [
  {
   "cell_type": "code",
   "execution_count": 1,
   "metadata": {},
   "outputs": [
    {
     "name": "stderr",
     "output_type": "stream",
     "text": [
      "/home/wahoo/.pyenv/versions/3.13.2/envs/ootp-analytics/lib/python3.13/site-packages/tqdm/auto.py:21: TqdmWarning: IProgress not found. Please update jupyter and ipywidgets. See https://ipywidgets.readthedocs.io/en/stable/user_install.html\n",
      "  from .autonotebook import tqdm as notebook_tqdm\n"
     ]
    }
   ],
   "source": [
    "import pandas as pd\n",
    "from model import RegressionRunner\n",
    "from model.HittingModel import HittingModel\n"
   ]
  },
  {
   "cell_type": "code",
   "execution_count": 2,
   "metadata": {},
   "outputs": [],
   "source": [
    "league = 'BZ'\n",
    "season_start = 2016\n",
    "season_end = 2018\n",
    "ratings_type = \"Standard\""
   ]
  },
  {
   "cell_type": "code",
   "execution_count": 3,
   "metadata": {},
   "outputs": [
    {
     "name": "stdout",
     "output_type": "stream",
     "text": [
      "CUDA is available! Using GPU.\n"
     ]
    }
   ],
   "source": [
    "hittingModel = HittingModel(league, season_start, season_end, ratings_type)"
   ]
  },
  {
   "cell_type": "code",
   "execution_count": 4,
   "metadata": {},
   "outputs": [
    {
     "name": "stdout",
     "output_type": "stream",
     "text": [
      "(296, 12)\n",
      "(594, 12)\n",
      "(890, 12)\n",
      "Empty DataFrame\n",
      "Columns: [BABIP, GAP, POW, EYE, K's, GBT, FBT, SPE, BFH, Age, RUN, wRAA600]\n",
      "Index: []\n"
     ]
    }
   ],
   "source": [
    "hittingModel.load_data(400)"
   ]
  },
  {
   "cell_type": "code",
   "execution_count": 5,
   "metadata": {},
   "outputs": [
    {
     "name": "stdout",
     "output_type": "stream",
     "text": [
      "Epoch [2000/18000], Best Loss: 1.0444411, Best Eval: 10000.0000000\n",
      "Epoch [4000/18000], Best Loss: 0.6541916, Best Eval: 10000.0000000\n",
      "Epoch [6000/18000], Best Loss: 0.4394884, Best Eval: 10000.0000000\n",
      "Epoch [8000/18000], Best Loss: 0.3314236, Best Eval: 10000.0000000\n",
      "Epoch [10000/18000], Best Loss: 0.2937651, Best Eval: 10000.0000000\n",
      "Epoch [12000/18000], Best Loss: 0.2244395, Best Eval: 10000.0000000\n",
      "Epoch [14000/18000], Best Loss: 0.1985244, Best Eval: 10000.0000000\n",
      "Epoch [16000/18000], Best Loss: 0.1791309, Best Eval: 10000.0000000\n",
      "Epoch [18000/18000], Best Loss: 0.1791309, Best Eval: 10000.0000000\n",
      "Epoch [17999/50000], Loss: 0.3166681\n",
      "Test Error: 11.9764833\n",
      "    mean_abs_shap  stdev_abs_shap   name\n",
      "2        7.584259        8.590494    POW\n",
      "4        5.917684        5.541423    K's\n",
      "3        4.696539        4.862784    EYE\n",
      "0        4.436412        5.816958  BABIP\n",
      "1        3.538023        3.461512    GAP\n",
      "7        3.232640        3.334499    SPE\n",
      "5        2.501813        2.394866    GBT\n",
      "6        2.421859        2.331643    FBT\n",
      "10       2.367483        2.112390    RUN\n",
      "9        2.160878        2.060055    Age\n",
      "8        1.241958        2.473376    BFH\n"
     ]
    }
   ],
   "source": [
    "epoch_count, loss = hittingModel.train(18000)\n",
    "print(f\"Epoch [{epoch_count}/{50000}], Loss: {loss:.7f}\")\n",
    "\n",
    "test_loss = hittingModel.evaluate()\n",
    "print(f\"Test Error: {test_loss:.7f}\")\n",
    "\n",
    "feature_importance = hittingModel.feature_importance()\n",
    "print(feature_importance)\n",
    "\n",
    "hittingModel.save_model()\n"
   ]
  }
 ],
 "metadata": {
  "kernelspec": {
   "display_name": "Python 3 (ipykernel)",
   "language": "python",
   "name": "python3"
  },
  "language_info": {
   "codemirror_mode": {
    "name": "ipython",
    "version": 3
   },
   "file_extension": ".py",
   "mimetype": "text/x-python",
   "name": "python",
   "nbconvert_exporter": "python",
   "pygments_lexer": "ipython3",
   "version": "3.13.2"
  }
 },
 "nbformat": 4,
 "nbformat_minor": 2
}
