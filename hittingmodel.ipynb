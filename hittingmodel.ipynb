{
 "cells": [
  {
   "cell_type": "code",
   "execution_count": 1,
   "metadata": {},
   "outputs": [
    {
     "name": "stderr",
     "output_type": "stream",
     "text": [
      "/home/wahoo/.pyenv/versions/3.13.2/envs/ootp-analytics/lib/python3.13/site-packages/tqdm/auto.py:21: TqdmWarning: IProgress not found. Please update jupyter and ipywidgets. See https://ipywidgets.readthedocs.io/en/stable/user_install.html\n",
      "  from .autonotebook import tqdm as notebook_tqdm\n"
     ]
    }
   ],
   "source": [
    "import pandas as pd\n",
    "from model import RegressionRunner\n",
    "from model.HittingModel import HittingModel\n"
   ]
  },
  {
   "cell_type": "code",
   "execution_count": 2,
   "metadata": {},
   "outputs": [],
   "source": [
    "league = 'BZ'\n",
    "season_start = 2016\n",
    "season_end = 2017\n",
    "ratings_type = \"Standard\""
   ]
  },
  {
   "cell_type": "code",
   "execution_count": 3,
   "metadata": {},
   "outputs": [
    {
     "name": "stdout",
     "output_type": "stream",
     "text": [
      "CUDA is available! Using GPU.\n"
     ]
    }
   ],
   "source": [
    "hittingModel = HittingModel(league, season_start, season_end, ratings_type)"
   ]
  },
  {
   "cell_type": "code",
   "execution_count": 4,
   "metadata": {},
   "outputs": [
    {
     "name": "stdout",
     "output_type": "stream",
     "text": [
      "(408, 14)\n",
      "Empty DataFrame\n",
      "Columns: [BABIP, GAP, POW, EYE, K's, BBT, GBT, FBT, SPE, BUN, BFH, WT, RUN, OFF600]\n",
      "Index: []\n",
      "(804, 14)\n",
      "Empty DataFrame\n",
      "Columns: [BABIP, GAP, POW, EYE, K's, BBT, GBT, FBT, SPE, BUN, BFH, WT, RUN, OFF600]\n",
      "Index: []\n"
     ]
    }
   ],
   "source": [
    "hittingModel.load_data()"
   ]
  },
  {
   "cell_type": "code",
   "execution_count": 5,
   "metadata": {},
   "outputs": [
    {
     "name": "stdout",
     "output_type": "stream",
     "text": [
      "Epoch [2000/5000], Best Loss: 1.1412190\n",
      "Epoch [4000/5000], Best Loss: 0.5358106\n",
      "Test Absolute Error: 13.8848\n",
      "    mean_abs_shap  stdev_abs_shap   name\n",
      "2       10.331830        9.295599    POW\n",
      "4        6.397074        6.804470    K's\n",
      "0        4.062292        6.318080  BABIP\n",
      "3        3.352675        3.925974    EYE\n",
      "1        3.213991        3.591984    GAP\n",
      "6        3.184370        3.099096    GBT\n",
      "11       2.918808        2.981226     WT\n",
      "12       2.754475        2.580111    RUN\n",
      "8        2.714299        3.119600    SPE\n",
      "9        2.686615        3.079211    BUN\n",
      "7        2.353300        2.508520    FBT\n",
      "5        2.099202        2.722892    BBT\n",
      "10       2.076917        3.056587    BFH\n"
     ]
    }
   ],
   "source": [
    "epoch_count, loss = hittingModel.train(5000)\n",
    "#print(f\"Epoch [{epoch_count}/{50000}], Loss: {loss:.7f}\")\n",
    "\n",
    "test_loss = hittingModel.evaluate()\n",
    "#print(f\"Test Mean Squared Error: {test_loss:.7f}\")\n",
    "\n",
    "feature_importance = hittingModel.feature_importance()\n",
    "print(feature_importance)\n",
    "\n",
    "hittingModel.save_model()\n"
   ]
  }
 ],
 "metadata": {
  "kernelspec": {
   "display_name": "Python 3 (ipykernel)",
   "language": "python",
   "name": "python3"
  },
  "language_info": {
   "codemirror_mode": {
    "name": "ipython",
    "version": 3
   },
   "file_extension": ".py",
   "mimetype": "text/x-python",
   "name": "python",
   "nbconvert_exporter": "python",
   "pygments_lexer": "ipython3",
   "version": "3.13.2"
  }
 },
 "nbformat": 4,
 "nbformat_minor": 2
}
