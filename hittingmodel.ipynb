{
 "cells": [
  {
   "cell_type": "code",
   "execution_count": 1,
   "metadata": {},
   "outputs": [
    {
     "name": "stderr",
     "output_type": "stream",
     "text": [
      "/home/wahoo/.pyenv/versions/3.13.2/envs/ootp-analytics/lib/python3.13/site-packages/tqdm/auto.py:21: TqdmWarning: IProgress not found. Please update jupyter and ipywidgets. See https://ipywidgets.readthedocs.io/en/stable/user_install.html\n",
      "  from .autonotebook import tqdm as notebook_tqdm\n"
     ]
    }
   ],
   "source": [
    "import pandas as pd\n",
    "from model import RegressionRunner\n",
    "from model.HittingModel import HittingModel\n"
   ]
  },
  {
   "cell_type": "code",
   "execution_count": null,
   "metadata": {},
   "outputs": [],
   "source": [
    "league = 'BZ'\n",
    "season_start = 2016\n",
    "season_end = 2064\n",
    "pa_limit = 200\n",
    "ratings_type = \"Standard\""
   ]
  },
  {
   "cell_type": "code",
   "execution_count": 3,
   "metadata": {},
   "outputs": [
    {
     "name": "stdout",
     "output_type": "stream",
     "text": [
      "CUDA is available! Using GPU.\n"
     ]
    }
   ],
   "source": [
    "hittingModel = HittingModel(league, season_start, season_end, ratings_type)"
   ]
  },
  {
   "cell_type": "code",
   "execution_count": 4,
   "metadata": {},
   "outputs": [
    {
     "name": "stdout",
     "output_type": "stream",
     "text": [
      "(7738, 9)\n",
      "Empty DataFrame\n",
      "Columns: [BA vL, GAP vL, POW vL, EYE vL, K vL, lgwOBA, lgOBP, B, wRAA600Left]\n",
      "Index: []\n"
     ]
    }
   ],
   "source": [
    "hittingModel.load_data(pa_limit)"
   ]
  },
  {
   "cell_type": "code",
   "execution_count": 5,
   "metadata": {},
   "outputs": [
    {
     "name": "stdout",
     "output_type": "stream",
     "text": [
      "Epoch [2000/4000], Best Loss: 14.8725128\n",
      "Epoch [4000/4000], Best Loss: 14.6391249\n",
      "Epoch [3999/50000], Loss: 14.6530828\n",
      "Test Error: 16.1901169\n"
     ]
    }
   ],
   "source": [
    "epoch_count, loss = hittingModel.train(4000)\n",
    "print(f\"Epoch [{epoch_count}/{50000}], Loss: {loss:.7f}\")\n",
    "\n",
    "test_loss = hittingModel.evaluate()\n",
    "print(f\"Test Error: {test_loss:.7f}\")\n",
    "\n",
    "#feature_importance = hittingModel.feature_importance()\n",
    "#print(feature_importance)\n",
    "\n",
    "hittingModel.save_model()\n"
   ]
  },
  {
   "cell_type": "code",
   "execution_count": 6,
   "metadata": {},
   "outputs": [
    {
     "name": "stdout",
     "output_type": "stream",
     "text": [
      "     BA vL  GAP vL  POW vL  EYE vL  K vL    lgwOBA     lgOBP  B  Predictions  \\\n",
      "176      5       5      35       5    75  0.314225  0.316947  1    44.127838   \n",
      "238      5       5       5      15    75  0.314225  0.316947  1    40.923603   \n",
      "441     35      15      15       0    35  0.314225  0.316947  1    38.418926   \n",
      "455     15       0       5      15    35  0.314225  0.316947  2    34.675026   \n",
      "152     15      15      35      75   -15  0.314225  0.316947  2    34.368351   \n",
      "298     35      35       5       0    35  0.314225  0.316947  1    33.080872   \n",
      "458      5       0      15      75     0  0.314225  0.316947  1    32.553368   \n",
      "49      15       5      15      15    -5  0.314225  0.316947  1    32.434391   \n",
      "119     35       0       5       0    35  0.314225  0.316947  1    31.250172   \n",
      "158      0       5      35      35     5  0.314225  0.316947  2    29.905598   \n",
      "363      5       0       5      15    15  0.314225  0.316947  1    27.918856   \n",
      "62       5       5       0      15    35  0.314225  0.316947  1    27.851526   \n",
      "422     75       5       0       0    35  0.314225  0.316947  1    27.576523   \n",
      "174     15      15      15       5     5  0.314225  0.316947  2    27.247906   \n",
      "382      0      15      15       5    15  0.314225  0.316947  1    27.035227   \n",
      "24      35      35     -15       5   155  0.314225  0.316947  2    26.601913   \n",
      "233      5      15       0       5    15  0.314225  0.316947  1    25.703564   \n",
      "244      5      15       0       5    15  0.314225  0.316947  1    25.703564   \n",
      "425      5      15       0       5    15  0.314225  0.316947  1    25.703564   \n",
      "208      5       5      15       5     5  0.314225  0.316947  1    25.650330   \n",
      "\n",
      "        ID  \n",
      "176  57269  \n",
      "238  58820  \n",
      "441  65139  \n",
      "455  67573  \n",
      "152  56507  \n",
      "298  60033  \n",
      "458  72590  \n",
      "49   52030  \n",
      "119  54456  \n",
      "158  56556  \n",
      "363  61602  \n",
      "62   52627  \n",
      "422  63732  \n",
      "174  57191  \n",
      "382  61934  \n",
      "24   50009  \n",
      "233  58710  \n",
      "244  58980  \n",
      "425  63927  \n",
      "208  58183  \n"
     ]
    }
   ],
   "source": [
    "predictions = hittingModel.predict(season_end+1, pa_limit)\n",
    "predictions.sort_values(by='Predictions', ascending=False, inplace=True)\n",
    "print(predictions.head(20))\n"
   ]
  },
  {
   "cell_type": "code",
   "execution_count": null,
   "metadata": {},
   "outputs": [],
   "source": []
  }
 ],
 "metadata": {
  "kernelspec": {
   "display_name": "Python 3 (ipykernel)",
   "language": "python",
   "name": "python3"
  },
  "language_info": {
   "codemirror_mode": {
    "name": "ipython",
    "version": 3
   },
   "file_extension": ".py",
   "mimetype": "text/x-python",
   "name": "python",
   "nbconvert_exporter": "python",
   "pygments_lexer": "ipython3",
   "version": "3.13.2"
  }
 },
 "nbformat": 4,
 "nbformat_minor": 2
}
