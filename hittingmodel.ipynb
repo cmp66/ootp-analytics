{
 "cells": [
  {
   "cell_type": "code",
   "execution_count": 1,
   "metadata": {},
   "outputs": [
    {
     "name": "stderr",
     "output_type": "stream",
     "text": [
      "/home/wahoo/.pyenv/versions/3.13.2/envs/ootp-analytics/lib/python3.13/site-packages/tqdm/auto.py:21: TqdmWarning: IProgress not found. Please update jupyter and ipywidgets. See https://ipywidgets.readthedocs.io/en/stable/user_install.html\n",
      "  from .autonotebook import tqdm as notebook_tqdm\n"
     ]
    }
   ],
   "source": [
    "import pandas as pd\n",
    "from model import RegressionRunner\n",
    "from model.HittingModel import HittingModel\n"
   ]
  },
  {
   "cell_type": "code",
   "execution_count": 2,
   "metadata": {},
   "outputs": [],
   "source": [
    "league = 'BZ'\n",
    "season_start = 2016\n",
    "season_end = 2026\n",
    "ratings_type = \"Standard\""
   ]
  },
  {
   "cell_type": "code",
   "execution_count": 3,
   "metadata": {},
   "outputs": [
    {
     "name": "stdout",
     "output_type": "stream",
     "text": [
      "CUDA is available! Using GPU.\n"
     ]
    }
   ],
   "source": [
    "hittingModel = HittingModel(league, season_start, season_end, ratings_type)"
   ]
  },
  {
   "cell_type": "code",
   "execution_count": 4,
   "metadata": {},
   "outputs": [
    {
     "name": "stdout",
     "output_type": "stream",
     "text": [
      "(294, 13)\n",
      "(596, 13)\n",
      "(893, 13)\n",
      "(1188, 13)\n",
      "(1491, 13)\n",
      "(1789, 13)\n",
      "(2080, 13)\n",
      "(2377, 13)\n",
      "(2674, 13)\n",
      "(2971, 13)\n",
      "(3271, 13)\n",
      "Empty DataFrame\n",
      "Columns: [BABIP, GAP, POW, EYE, K's, BBT, GBT, FBT, SPE, BUN, BFH, B, wRAA600]\n",
      "Index: []\n"
     ]
    }
   ],
   "source": [
    "hittingModel.load_data(400)"
   ]
  },
  {
   "cell_type": "code",
   "execution_count": null,
   "metadata": {},
   "outputs": [
    {
     "name": "stdout",
     "output_type": "stream",
     "text": [
      "Epoch [2000/18000], Best Loss: 4.4450555, Best Eval: 10000.0000000\n",
      "Epoch [4000/18000], Best Loss: 3.6658654, Best Eval: 10000.0000000\n",
      "Epoch [6000/18000], Best Loss: 3.3315108, Best Eval: 10000.0000000\n",
      "Epoch [8000/18000], Best Loss: 2.9641669, Best Eval: 10000.0000000\n",
      "Epoch [10000/18000], Best Loss: 2.7549281, Best Eval: 10000.0000000\n",
      "Epoch [12000/18000], Best Loss: 2.6209366, Best Eval: 10000.0000000\n",
      "Epoch [14000/18000], Best Loss: 2.5710754, Best Eval: 10000.0000000\n"
     ]
    }
   ],
   "source": [
    "epoch_count, loss = hittingModel.train(18000)\n",
    "print(f\"Epoch [{epoch_count}/{50000}], Loss: {loss:.7f}\")\n",
    "\n",
    "test_loss = hittingModel.evaluate()\n",
    "print(f\"Test Error: {test_loss:.7f}\")\n",
    "\n",
    "feature_importance = hittingModel.feature_importance()\n",
    "print(feature_importance)\n",
    "\n",
    "hittingModel.save_model()\n"
   ]
  }
 ],
 "metadata": {
  "kernelspec": {
   "display_name": "Python 3 (ipykernel)",
   "language": "python",
   "name": "python3"
  },
  "language_info": {
   "codemirror_mode": {
    "name": "ipython",
    "version": 3
   },
   "file_extension": ".py",
   "mimetype": "text/x-python",
   "name": "python",
   "nbconvert_exporter": "python",
   "pygments_lexer": "ipython3",
   "version": "3.13.2"
  }
 },
 "nbformat": 4,
 "nbformat_minor": 2
}
