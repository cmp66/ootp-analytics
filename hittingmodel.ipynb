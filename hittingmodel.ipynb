{
 "cells": [
  {
   "cell_type": "code",
   "execution_count": 1,
   "metadata": {},
   "outputs": [
    {
     "name": "stderr",
     "output_type": "stream",
     "text": [
      "/home/wahoo/.pyenv/versions/3.13.2/envs/ootp-analytics/lib/python3.13/site-packages/tqdm/auto.py:21: TqdmWarning: IProgress not found. Please update jupyter and ipywidgets. See https://ipywidgets.readthedocs.io/en/stable/user_install.html\n",
      "  from .autonotebook import tqdm as notebook_tqdm\n"
     ]
    }
   ],
   "source": [
    "from model.HittingModel import HittingModel\n"
   ]
  },
  {
   "cell_type": "code",
   "execution_count": 2,
   "metadata": {},
   "outputs": [],
   "source": [
    "league = 'BZ'\n",
    "season_start = 2016\n",
    "season_end = 2064\n",
    "total_pa_limit = 400\n",
    "right_pa_limit = 300\n",
    "left_pa_limit = 200\n",
    "epochs = 6000\n",
    "ratings_type = \"Mixed\""
   ]
  },
  {
   "cell_type": "code",
   "execution_count": 3,
   "metadata": {},
   "outputs": [
    {
     "name": "stdout",
     "output_type": "stream",
     "text": [
      "CUDA is available! Using GPU.\n",
      "(14164, 17)\n",
      "Empty DataFrame\n",
      "Columns: [BABIP, BA vR, BA vL, GAP vR, GAP vL, POW, POW vR, POW vL, EYE, EYE vR, EYE vL, K's, K vR, K vL, lgwOBA, lgOBP, wRAA600]\n",
      "Index: []\n",
      "Epoch [2000/6000], Best Loss: 8.7727261\n",
      "Epoch [4000/6000], Best Loss: 8.6582556\n",
      "Epoch [6000/6000], Best Loss: 8.5938549\n",
      "Epoch [5999/6000], Loss: 8.5970173\n",
      "Test Error: 9.1416769\n",
      "     BABIP  BA vR  BA vL  GAP vR  GAP vL  POW  POW vR  POW vL  EYE  EYE vR  \\\n",
      "176      5      5      5       0       5   35      35      35    5       5   \n",
      "174     35     35     15      35      15   15      35      15    5       5   \n",
      "457     35     35     15       5       0    5      15       5   15      15   \n",
      "443     15     15     35      15      15   15      15      15    0       0   \n",
      "298     35     35     35      35      35    5       5       5    0       0   \n",
      "158      0      0      0       5       5   35      35      35   35      35   \n",
      "119     35     35     35       0       0    5       5       5    0       0   \n",
      "152     15     15     15      15      15   35      35      35   75      75   \n",
      "258      5      5      0       5       0   75      75       5    0       5   \n",
      "383      0      0      0      15      15   15      15      15    5       5   \n",
      "\n",
      "     EYE vL  K's  K vR  K vL    lgwOBA     lgOBP  Predictions     ID  \n",
      "176       5   75    75    75  0.314225  0.316947    48.992218  57269  \n",
      "174       5    5     5     5  0.314225  0.316947    45.904953  57191  \n",
      "457      15   75    75    35  0.314225  0.316947    44.037788  67573  \n",
      "443       0   35    35    35  0.314225  0.316947    39.649303  65139  \n",
      "298       0   35    35    35  0.314225  0.316947    35.530628  60033  \n",
      "158      35    5     5     5  0.314225  0.316947    32.467449  56556  \n",
      "119       0   35    35    35  0.314225  0.316947    29.687380  54456  \n",
      "152      75  -15   -15   -15  0.314225  0.316947    28.512094  56507  \n",
      "258       0    0     5    -5  0.314225  0.316947    27.940977  59233  \n",
      "383       5   15    15    15  0.314225  0.316947    27.900696  61934  \n"
     ]
    }
   ],
   "source": [
    "hittingModel = HittingModel(league, season_start, season_end, ratings_type, \"total\")\n",
    "hittingModel.load_data(total_pa_limit)\n",
    "\n",
    "epoch_count, loss = hittingModel.train(epochs)\n",
    "print(f\"Epoch [{epoch_count}/{epochs}], Loss: {loss:.7f}\")\n",
    "\n",
    "test_loss = hittingModel.evaluate()\n",
    "print(f\"Test Error: {test_loss:.7f}\")\n",
    "\n",
    "#feature_importance = hittingModel.feature_importance()\n",
    "#print(feature_importance)\n",
    "\n",
    "hittingModel.save_model()\n",
    "\n",
    "predictions = hittingModel.predict(season_end+1, total_pa_limit)\n",
    "predictions.sort_values(by='Predictions', ascending=False, inplace=True)\n",
    "print(predictions.head(10))"
   ]
  },
  {
   "cell_type": "code",
   "execution_count": 4,
   "metadata": {},
   "outputs": [
    {
     "name": "stdout",
     "output_type": "stream",
     "text": [
      "CUDA is available! Using GPU.\n",
      "(13859, 10)\n",
      "Empty DataFrame\n",
      "Columns: [BA vR, GAP vR, POW vR, POW vL, EYE vR, K's, K vR, lgwOBA, lgOBP, wRAA600Right]\n",
      "Index: []\n",
      "Epoch [2000/6000], Best Loss: 10.2673264\n",
      "Epoch [4000/6000], Best Loss: 10.1307249\n",
      "Epoch [6000/6000], Best Loss: 10.0336695\n",
      "Epoch [5999/6000], Loss: 10.0413151\n",
      "Test Error: 10.4383183\n",
      "     BA vR  GAP vR  POW vR  POW vL  EYE vR  K's  K vR    lgwOBA     lgOBP  \\\n",
      "176      5       0      35      35       5   75    75  0.314225  0.316947   \n",
      "174     35      35      35      15       5    5     5  0.314225  0.316947   \n",
      "457     35       5      15       5      15   75    75  0.314225  0.316947   \n",
      "443     15      15      15      15       0   35    35  0.314225  0.316947   \n",
      "383      0      15      15      15       5   15    15  0.314225  0.316947   \n",
      "158      0       5      35      35      35    5     5  0.314225  0.316947   \n",
      "258      5       5      75       5       5    0     5  0.314225  0.316947   \n",
      "298     35      35       5       5       0   35    35  0.314225  0.316947   \n",
      "119     35       0       5       5       0   35    35  0.314225  0.316947   \n",
      "423     75       5       0       0       0   35    35  0.314225  0.316947   \n",
      "\n",
      "     Predictions     ID  \n",
      "176    56.676804  57269  \n",
      "174    54.411400  57191  \n",
      "457    43.133965  67573  \n",
      "443    39.270481  65139  \n",
      "383    35.158760  61934  \n",
      "158    35.104233  56556  \n",
      "258    33.130177  59233  \n",
      "298    32.306995  60033  \n",
      "119    31.890369  54456  \n",
      "423    29.962891  63732  \n"
     ]
    }
   ],
   "source": [
    "righthittingModel = HittingModel(league, season_start, season_end, ratings_type, \"right\")\n",
    "righthittingModel.load_data(right_pa_limit)\n",
    "\n",
    "epoch_count, loss = righthittingModel.train(epochs)\n",
    "print(f\"Epoch [{epoch_count}/{epochs}], Loss: {loss:.7f}\")\n",
    "\n",
    "test_loss = righthittingModel.evaluate()\n",
    "print(f\"Test Error: {test_loss:.7f}\")\n",
    "\n",
    "#feature_importance = righthittingModel.feature_importance()\n",
    "#print(feature_importance)\n",
    "\n",
    "righthittingModel.save_model()\n",
    "\n",
    "predictions = righthittingModel.predict(season_end+1, right_pa_limit)\n",
    "predictions.sort_values(by='Predictions', ascending=False, inplace=True)\n",
    "print(predictions.head(10))"
   ]
  },
  {
   "cell_type": "code",
   "execution_count": 5,
   "metadata": {},
   "outputs": [
    {
     "name": "stdout",
     "output_type": "stream",
     "text": [
      "CUDA is available! Using GPU.\n",
      "(1058, 8)\n",
      "Empty DataFrame\n",
      "Columns: [BA vL, GAP vL, POW vL, EYE vL, K vL, lgwOBA, lgOBP, wRAA600Left]\n",
      "Index: []\n",
      "Epoch [2000/6000], Best Loss: 11.2908754\n",
      "Epoch [4000/6000], Best Loss: 10.3690891\n",
      "Epoch [6000/6000], Best Loss: 9.7863588\n",
      "Epoch [5999/6000], Loss: 9.8607311\n",
      "Test Error: 15.5631323\n",
      "     BA vL  GAP vL  POW vL  EYE vL  K vL    lgwOBA     lgOBP  Predictions  \\\n",
      "119     35       0       5       0    35  0.314225  0.316947    53.566654   \n",
      "360      0       5       0       0    35  0.314225  0.316947    21.645346   \n",
      "343     35       0       0       0     5  0.314225  0.316947    17.399153   \n",
      "452     15       5     -15       0    15  0.314225  0.316947    10.640668   \n",
      "414      5       0      -5       0    15  0.314225  0.316947     4.865311   \n",
      "147      0       5     -35       0   155  0.314225  0.316947     1.802162   \n",
      "194     15      35     -75      15    15  0.314225  0.316947    -0.002839   \n",
      "366      5      -5     -35       0    75  0.314225  0.316947    -5.284739   \n",
      "243     15       0     -15       0     0  0.314225  0.316947    -7.853878   \n",
      "32       5       0       0      -5     5  0.314225  0.316947   -12.340245   \n",
      "\n",
      "        ID  \n",
      "119  54456  \n",
      "360  61525  \n",
      "343  61091  \n",
      "452  67460  \n",
      "414  63474  \n",
      "147  56156  \n",
      "194  57862  \n",
      "366  61787  \n",
      "243  58866  \n",
      "32   50802  \n"
     ]
    }
   ],
   "source": [
    "lefthittingModel = HittingModel(league, season_start, season_end, ratings_type, \"left\")\n",
    "lefthittingModel.load_data(left_pa_limit)\n",
    "\n",
    "epoch_count, loss = lefthittingModel.train(epochs)\n",
    "print(f\"Epoch [{epoch_count}/{epochs}], Loss: {loss:.7f}\")\n",
    "\n",
    "test_loss = lefthittingModel.evaluate()\n",
    "print(f\"Test Error: {test_loss:.7f}\")\n",
    "\n",
    "#feature_importance = lefthittingModel.feature_importance()\n",
    "#print(feature_importance)\n",
    "\n",
    "lefthittingModel.save_model()\n",
    "\n",
    "predictions = lefthittingModel.predict(season_end+1, left_pa_limit)\n",
    "predictions.sort_values(by='Predictions', ascending=False, inplace=True)\n",
    "print(predictions.head(10))"
   ]
  }
 ],
 "metadata": {
  "kernelspec": {
   "display_name": "Python 3 (ipykernel)",
   "language": "python",
   "name": "python3"
  },
  "language_info": {
   "codemirror_mode": {
    "name": "ipython",
    "version": 3
   },
   "file_extension": ".py",
   "mimetype": "text/x-python",
   "name": "python",
   "nbconvert_exporter": "python",
   "pygments_lexer": "ipython3",
   "version": "3.13.2"
  }
 },
 "nbformat": 4,
 "nbformat_minor": 2
}
