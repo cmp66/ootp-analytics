{
 "cells": [
  {
   "cell_type": "code",
   "execution_count": 1,
   "metadata": {},
   "outputs": [
    {
     "name": "stderr",
     "output_type": "stream",
     "text": [
      "/home/wahoo/.pyenv/versions/3.13.2/envs/ootp-analytics/lib/python3.13/site-packages/tqdm/auto.py:21: TqdmWarning: IProgress not found. Please update jupyter and ipywidgets. See https://ipywidgets.readthedocs.io/en/stable/user_install.html\n",
      "  from .autonotebook import tqdm as notebook_tqdm\n"
     ]
    }
   ],
   "source": [
    "import pandas as pd\n",
    "from model import RegressionRunner\n",
    "from model.HittingModel import HittingModel\n"
   ]
  },
  {
   "cell_type": "code",
   "execution_count": 2,
   "metadata": {},
   "outputs": [],
   "source": [
    "league = 'BZ'\n",
    "season = 2017\n",
    "ratings_type = \"Standard\""
   ]
  },
  {
   "cell_type": "code",
   "execution_count": 3,
   "metadata": {},
   "outputs": [
    {
     "name": "stdout",
     "output_type": "stream",
     "text": [
      "CUDA is available! Using GPU.\n"
     ]
    }
   ],
   "source": [
    "hittingModel = HittingModel(league, season, season, ratings_type)"
   ]
  },
  {
   "cell_type": "code",
   "execution_count": 4,
   "metadata": {},
   "outputs": [],
   "source": [
    "hittingModel.load_data()"
   ]
  },
  {
   "cell_type": "code",
   "execution_count": 5,
   "metadata": {},
   "outputs": [
    {
     "name": "stdout",
     "output_type": "stream",
     "text": [
      "Epoch [2000/50000], Loss: 0.1545599\n",
      "Epoch [3413/50000], Loss: 0.0009638\n",
      "Epoch [3412/50000], Loss: 0.0009638\n",
      "Test Mean Squared Error: 505.1702576\n",
      "    mean_abs_shap  stdev_abs_shap   name\n",
      "2       13.089582        9.685846    POW\n",
      "0        8.039367        8.365431  BABIP\n",
      "4        6.776312        5.622070    K's\n",
      "8        4.473925        5.907402    SPE\n",
      "3        3.873869        4.401975    EYE\n",
      "1        3.622673        3.662884    GAP\n",
      "7        3.251565        3.207339    FBT\n",
      "10       3.245832        4.362366    BFH\n",
      "6        3.181342        3.771827    GBT\n",
      "9        3.114753        3.819463    BUN\n",
      "5        3.103814        3.580510    BBT\n"
     ]
    }
   ],
   "source": [
    "epoch_count, loss = hittingModel.train(50000)\n",
    "print(f\"Epoch [{epoch_count}/{50000}], Loss: {loss:.7f}\")\n",
    "\n",
    "test_loss = hittingModel.evaluate()\n",
    "print(f\"Test Mean Squared Error: {test_loss:.7f}\")\n",
    "\n",
    "feature_importance = hittingModel.feature_importance()\n",
    "print(feature_importance)\n",
    "\n",
    "hittingModel.save_model()\n"
   ]
  }
 ],
 "metadata": {
  "kernelspec": {
   "display_name": "Python 3 (ipykernel)",
   "language": "python",
   "name": "python3"
  },
  "language_info": {
   "codemirror_mode": {
    "name": "ipython",
    "version": 3
   },
   "file_extension": ".py",
   "mimetype": "text/x-python",
   "name": "python",
   "nbconvert_exporter": "python",
   "pygments_lexer": "ipython3",
   "version": "3.13.2"
  }
 },
 "nbformat": 4,
 "nbformat_minor": 2
}
