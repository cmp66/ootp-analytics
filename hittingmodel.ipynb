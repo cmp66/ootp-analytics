{
 "cells": [
  {
   "cell_type": "code",
   "execution_count": 1,
   "metadata": {},
   "outputs": [
    {
     "name": "stderr",
     "output_type": "stream",
     "text": [
      "/home/wahoo/.pyenv/versions/3.13.2/envs/ootp-analytics/lib/python3.13/site-packages/tqdm/auto.py:21: TqdmWarning: IProgress not found. Please update jupyter and ipywidgets. See https://ipywidgets.readthedocs.io/en/stable/user_install.html\n",
      "  from .autonotebook import tqdm as notebook_tqdm\n"
     ]
    }
   ],
   "source": [
    "import pandas as pd\n",
    "from model import RegressionRunner\n",
    "from model.HittingModel import HittingModel\n"
   ]
  },
  {
   "cell_type": "code",
   "execution_count": 2,
   "metadata": {},
   "outputs": [],
   "source": [
    "league = 'BZ'\n",
    "season = 2016\n",
    "ratings_type = \"Standard\""
   ]
  },
  {
   "cell_type": "code",
   "execution_count": 3,
   "metadata": {},
   "outputs": [
    {
     "name": "stdout",
     "output_type": "stream",
     "text": [
      "CUDA is available! Using GPU.\n"
     ]
    }
   ],
   "source": [
    "hittingModel = HittingModel(league, season, season, ratings_type)"
   ]
  },
  {
   "cell_type": "code",
   "execution_count": 4,
   "metadata": {},
   "outputs": [],
   "source": [
    "hittingModel.load_data()"
   ]
  },
  {
   "cell_type": "code",
   "execution_count": 5,
   "metadata": {},
   "outputs": [
    {
     "name": "stdout",
     "output_type": "stream",
     "text": [
      "Epoch [1035/50000], Loss: 0.0009980\n",
      "Epoch [1034/50000], Loss: 0.0009980\n",
      "Test Mean Squared Error: 369.3145142\n",
      "    mean_abs_shap  stdev_abs_shap   name\n",
      "4        8.399231        8.751747    K's\n",
      "2        7.787025        9.882447    POW\n",
      "8        4.768116        5.513278    SPE\n",
      "3        4.518926        5.333116    EYE\n",
      "9        3.220706        3.355024    BUN\n",
      "6        3.110522        3.156552    GBT\n",
      "10       3.105827        5.384060    BFH\n",
      "1        2.852414        2.870247    GAP\n",
      "0        2.595376        3.193680  BABIP\n",
      "7        2.553591        2.516629    FBT\n",
      "5        2.381923        3.696660    BBT\n"
     ]
    }
   ],
   "source": [
    "epoch_count, loss = hittingModel.train(50000)\n",
    "print(f\"Epoch [{epoch_count}/{50000}], Loss: {loss:.7f}\")\n",
    "\n",
    "test_loss = hittingModel.evaluate()\n",
    "print(f\"Test Mean Squared Error: {test_loss:.7f}\")\n",
    "\n",
    "feature_importance = hittingModel.feature_importance()\n",
    "print(feature_importance)\n",
    "\n",
    "hittingModel.save_model()\n"
   ]
  }
 ],
 "metadata": {
  "kernelspec": {
   "display_name": "Python 3 (ipykernel)",
   "language": "python",
   "name": "python3"
  },
  "language_info": {
   "codemirror_mode": {
    "name": "ipython",
    "version": 3
   },
   "file_extension": ".py",
   "mimetype": "text/x-python",
   "name": "python",
   "nbconvert_exporter": "python",
   "pygments_lexer": "ipython3",
   "version": "3.13.2"
  }
 },
 "nbformat": 4,
 "nbformat_minor": 2
}
