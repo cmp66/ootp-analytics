{
 "cells": [
  {
   "cell_type": "code",
   "execution_count": 6,
   "metadata": {},
   "outputs": [],
   "source": [
    "import pandas as pd\n",
    "import torch\n",
    "from model.BSRModel import BSRModel\n"
   ]
  },
  {
   "cell_type": "code",
   "execution_count": null,
   "metadata": {},
   "outputs": [],
   "source": [
    "league =  'BZ'\n",
    "season_start = 2016\n",
    "season_end = 2017\n",
    "ratings_type = \"Standard\""
   ]
  },
  {
   "cell_type": "code",
   "execution_count": null,
   "metadata": {},
   "outputs": [
    {
     "name": "stdout",
     "output_type": "stream",
     "text": [
      "CUDA is available! Using GPU.\n"
     ]
    }
   ],
   "source": [
    "bsrModel = BSRModel(league, season_start, season_end, ratings_type)"
   ]
  },
  {
   "cell_type": "code",
   "execution_count": 9,
   "metadata": {},
   "outputs": [],
   "source": [
    "bsrModel.load_data()"
   ]
  },
  {
   "cell_type": "code",
   "execution_count": null,
   "metadata": {},
   "outputs": [
    {
     "name": "stdout",
     "output_type": "stream",
     "text": [
      "Epoch [417/50000], Loss: 0.0009163\n",
      "Epoch [416/50000], Loss: 0.0009163\n",
      "Test Mean Squared Error: 11.4958906\n",
      "    mean_abs_shap  stdev_abs_shap   name\n",
      "5        1.132226        0.883738    RUN\n",
      "4        0.845823        0.918480    STE\n",
      "3        0.593387        0.537740     SR\n",
      "2        0.568123        0.616482    SPE\n",
      "7        0.545230        0.597401    GAP\n",
      "1        0.500328        0.508522     WT\n",
      "11       0.487356        0.527943    GBT\n",
      "10       0.486728        0.533607    BBT\n",
      "6        0.477557        0.529003  BABIP\n",
      "0        0.476114        0.411393    Age\n",
      "12       0.440949        0.473204    FBT\n",
      "8        0.401484        0.458845    K's\n",
      "9        0.358625        0.440121    BFH\n"
     ]
    }
   ],
   "source": [
    "epoch_count, loss = bsrModel.train(5000)\n",
    "#print(f\"Epoch [{epoch_count}/{50000}], Loss: {loss:.7f}\")\n",
    "\n",
    "test_loss = bsrModel.evaluate()\n",
    "#print(f\"Test Mean Squared Error: {test_loss:.7f}\")\n",
    "\n",
    "feature_importance = bsrModel.feature_importance()\n",
    "print(feature_importance)\n",
    "\n",
    "bsrModel.save_model()\n"
   ]
  }
 ],
 "metadata": {
  "kernelspec": {
   "display_name": "Python 3 (ipykernel)",
   "language": "python",
   "name": "python3"
  },
  "language_info": {
   "codemirror_mode": {
    "name": "ipython",
    "version": 3
   },
   "file_extension": ".py",
   "mimetype": "text/x-python",
   "name": "python",
   "nbconvert_exporter": "python",
   "pygments_lexer": "ipython3",
   "version": "3.13.2"
  }
 },
 "nbformat": 4,
 "nbformat_minor": 2
}
