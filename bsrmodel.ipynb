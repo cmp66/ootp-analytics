{
 "cells": [
  {
   "cell_type": "code",
   "execution_count": 7,
   "metadata": {},
   "outputs": [],
   "source": [
    "from model.BSRModel import BSRModel\n"
   ]
  },
  {
   "cell_type": "code",
   "execution_count": 8,
   "metadata": {},
   "outputs": [],
   "source": [
    "league =  'BZ-Standard'\n",
    "season_start = 2026\n",
    "season_end = 2046\n",
    "pa_limit = 10\n",
    "epochs = 10000\n",
    "ratings_type = \"Standard\""
   ]
  },
  {
   "cell_type": "code",
   "execution_count": 9,
   "metadata": {},
   "outputs": [
    {
     "name": "stdout",
     "output_type": "stream",
     "text": [
      "Empty DataFrame\n",
      "Columns: [SPE, SR, STE, RUN, WT, BSR600]\n",
      "Index: []\n",
      "(9066, 6)\n",
      "Epoch [2000/10000], Best Loss: 1.9513831\n",
      "Epoch [4000/10000], Best Loss: 1.9272705\n",
      "Epoch [6000/10000], Best Loss: 1.9147773\n",
      "Epoch [8000/10000], Best Loss: 1.9072263\n",
      "Epoch [10000/10000], Best Loss: 1.9010273\n",
      "Epoch [9999/10000], Loss: 1.9019507\n",
      "Test Error: 2.0345027\n",
      "   mean_abs_shap  stdev_abs_shap name\n",
      "2       1.269252        1.384400  STE\n",
      "3       0.626504        0.490116  RUN\n",
      "0       0.386622        0.280475  SPE\n",
      "4       0.142062        0.135634   WT\n",
      "1       0.122968        0.182917   SR\n",
      "     SPE  SR  STE  RUN   WT  Predictions     ID\n",
      "269   75  80   80   80  186    13.135908  36772\n",
      "272   70  80   80   80  192    13.009398  36801\n",
      "193   70  80   80   80  202    12.879237  34070\n",
      "209   80  80   80   75  192    12.818799  34386\n",
      "420   65  80   80   80  193    12.593886  47523\n",
      "..   ...  ..  ...  ...  ...          ...    ...\n",
      "1     80  65   55   65  205     1.294592  19760\n",
      "3     45  50   55   75  195     1.249964  22152\n",
      "367   35  55   60   65  207     1.201227  42297\n",
      "15    75  65   55   60  161     1.198972  24093\n",
      "307   55  60   60   65  162     1.166144  38370\n",
      "\n",
      "[100 rows x 7 columns]\n"
     ]
    }
   ],
   "source": [
    "bsrModel = BSRModel(league, season_start, season_end, ratings_type, \"10\")\n",
    "bsrModel.load_data(pa_limit)\n",
    "\n",
    "epoch_count, loss = bsrModel.train(epochs)\n",
    "print(f\"Epoch [{epoch_count}/{epochs}], Loss: {loss:.7f}\")\n",
    "\n",
    "test_loss = bsrModel.evaluate()\n",
    "print(f\"Test Error: {test_loss:.7f}\")\n",
    "\n",
    "feature_importance = bsrModel.feature_importance()\n",
    "print(feature_importance)\n",
    "\n",
    "bsrModel.save_model()\n",
    "\n",
    "predictions = bsrModel.predict(season_end+1, pa_limit)\n",
    "predictions.sort_values(by='Predictions', ascending=False, inplace=True)\n",
    "print(predictions.head(100))"
   ]
  }
 ],
 "metadata": {
  "kernelspec": {
   "display_name": "Python 3 (ipykernel)",
   "language": "python",
   "name": "python3"
  },
  "language_info": {
   "codemirror_mode": {
    "name": "ipython",
    "version": 3
   },
   "file_extension": ".py",
   "mimetype": "text/x-python",
   "name": "python",
   "nbconvert_exporter": "python",
   "pygments_lexer": "ipython3",
   "version": "3.13.2"
  }
 },
 "nbformat": 4,
 "nbformat_minor": 2
}
