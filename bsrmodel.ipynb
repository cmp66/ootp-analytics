{
 "cells": [
  {
   "cell_type": "code",
   "execution_count": 1,
   "metadata": {},
   "outputs": [
    {
     "name": "stderr",
     "output_type": "stream",
     "text": [
      "/home/wahoo/.pyenv/versions/3.13.2/envs/ootp-analytics/lib/python3.13/site-packages/tqdm/auto.py:21: TqdmWarning: IProgress not found. Please update jupyter and ipywidgets. See https://ipywidgets.readthedocs.io/en/stable/user_install.html\n",
      "  from .autonotebook import tqdm as notebook_tqdm\n"
     ]
    }
   ],
   "source": [
    "from model.BSRModel import BSRModel\n"
   ]
  },
  {
   "cell_type": "code",
   "execution_count": 2,
   "metadata": {},
   "outputs": [],
   "source": [
    "league =  'BZ'\n",
    "season_start = 2016\n",
    "season_end = 2064\n",
    "pa_limit = 400\n",
    "epochs = 6000\n",
    "ratings_type = \"Mixed\""
   ]
  },
  {
   "cell_type": "code",
   "execution_count": 3,
   "metadata": {},
   "outputs": [
    {
     "name": "stdout",
     "output_type": "stream",
     "text": [
      "CUDA is available! Using GPU.\n",
      "Empty DataFrame\n",
      "Columns: [SPE, SR, STE, RUN, WT, BSR600]\n",
      "Index: []\n",
      "(14164, 6)\n",
      "Epoch [2000/6000], Best Loss: 1.6737355\n",
      "Epoch [4000/6000], Best Loss: 1.6478598\n",
      "Epoch [6000/6000], Best Loss: 1.6357298\n",
      "Epoch [5999/6000], Loss: 1.6357298\n",
      "Test Error: 1.7457613\n",
      "     SPE  SR  STE  RUN   WT  Predictions     ID\n",
      "298   10  10   10   10  192     7.806360  60033\n",
      "262   10  10   10   10  185     7.619636  59253\n",
      "240    8  10   10   10  190     7.248950  58843\n",
      "70     9  10   10   10  201     7.056282  52811\n",
      "182    8  10   10   10  197     7.044015  57371\n",
      "112    8  10   10   10  200     6.769007  53978\n",
      "288    9  10   10   10  204     6.721751  59882\n",
      "163    8  10   10   10  201     6.655417  56617\n",
      "311    9  10   10    9  202     6.480305  60529\n",
      "377    7  10   10   10  199     6.471272  61897\n"
     ]
    }
   ],
   "source": [
    "bsrModel = BSRModel(league, season_start, season_end, ratings_type, \"10\")\n",
    "bsrModel.load_data(pa_limit)\n",
    "\n",
    "epoch_count, loss = bsrModel.train(epochs)\n",
    "print(f\"Epoch [{epoch_count}/{epochs}], Loss: {loss:.7f}\")\n",
    "\n",
    "test_loss = bsrModel.evaluate()\n",
    "print(f\"Test Error: {test_loss:.7f}\")\n",
    "\n",
    "#feature_importance = bsrModel.feature_importance()\n",
    "#print(feature_importance)\n",
    "\n",
    "bsrModel.save_model()\n",
    "\n",
    "predictions = bsrModel.predict(season_end+1, pa_limit)\n",
    "predictions.sort_values(by='Predictions', ascending=False, inplace=True)\n",
    "print(predictions.head(10))"
   ]
  }
 ],
 "metadata": {
  "kernelspec": {
   "display_name": "Python 3 (ipykernel)",
   "language": "python",
   "name": "python3"
  },
  "language_info": {
   "codemirror_mode": {
    "name": "ipython",
    "version": 3
   },
   "file_extension": ".py",
   "mimetype": "text/x-python",
   "name": "python",
   "nbconvert_exporter": "python",
   "pygments_lexer": "ipython3",
   "version": "3.13.2"
  }
 },
 "nbformat": 4,
 "nbformat_minor": 2
}
