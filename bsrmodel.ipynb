{
 "cells": [
  {
   "cell_type": "code",
   "execution_count": 1,
   "metadata": {},
   "outputs": [
    {
     "name": "stderr",
     "output_type": "stream",
     "text": [
      "/home/wahoo/.pyenv/versions/3.13.2/envs/ootp-analytics/lib/python3.13/site-packages/tqdm/auto.py:21: TqdmWarning: IProgress not found. Please update jupyter and ipywidgets. See https://ipywidgets.readthedocs.io/en/stable/user_install.html\n",
      "  from .autonotebook import tqdm as notebook_tqdm\n"
     ]
    }
   ],
   "source": [
    "import pandas as pd\n",
    "import torch\n",
    "from model.BSRModel import BSRModel\n"
   ]
  },
  {
   "cell_type": "code",
   "execution_count": 2,
   "metadata": {},
   "outputs": [],
   "source": [
    "league =  'BZ'\n",
    "season_start = 2016\n",
    "season_end = 2023\n",
    "ratings_type = \"Standard\""
   ]
  },
  {
   "cell_type": "code",
   "execution_count": 3,
   "metadata": {},
   "outputs": [
    {
     "name": "stdout",
     "output_type": "stream",
     "text": [
      "CUDA is available! Using GPU.\n"
     ]
    }
   ],
   "source": [
    "bsrModel = BSRModel(league, season_start, season_end, ratings_type)"
   ]
  },
  {
   "cell_type": "code",
   "execution_count": 4,
   "metadata": {},
   "outputs": [
    {
     "name": "stdout",
     "output_type": "stream",
     "text": [
      "(258, 13)\n",
      "(511, 13)\n",
      "(772, 13)\n",
      "(1033, 13)\n",
      "(1294, 13)\n",
      "(1555, 13)\n",
      "(1818, 13)\n",
      "(2083, 13)\n",
      "Empty DataFrame\n",
      "Columns: [WT, SPE, SR, STE, RUN, BABIP, GAP, K's, BFH, BBT, GBT, FBT, BSR600]\n",
      "Index: []\n"
     ]
    }
   ],
   "source": [
    "bsrModel.load_data(500)"
   ]
  },
  {
   "cell_type": "code",
   "execution_count": null,
   "metadata": {},
   "outputs": [
    {
     "name": "stdout",
     "output_type": "stream",
     "text": [
      "Best Eval:  2.126105308532715\n",
      "Best Eval:  2.1161491870880127\n",
      "Best Eval:  2.1050591468811035\n",
      "Best Eval:  2.0937552452087402\n",
      "Best Eval:  2.0872538089752197\n",
      "Best Eval:  2.0829548835754395\n",
      "Best Eval:  2.0798134803771973\n",
      "Best Eval:  2.0735349655151367\n",
      "Best Eval:  2.0634713172912598\n",
      "Best Eval:  2.053225040435791\n",
      "Best Eval:  2.045400619506836\n",
      "Best Eval:  2.0376088619232178\n",
      "Best Eval:  2.0298352241516113\n",
      "Best Eval:  2.02056884765625\n",
      "Best Eval:  2.010551929473877\n",
      "Best Eval:  2.001246213912964\n",
      "Best Eval:  1.9909954071044922\n",
      "Best Eval:  1.9769935607910156\n",
      "Best Eval:  1.9601633548736572\n",
      "Best Eval:  1.9412322044372559\n",
      "Best Eval:  1.9212673902511597\n",
      "Best Eval:  1.9004693031311035\n",
      "Best Eval:  1.8804113864898682\n",
      "Best Eval:  1.8616186380386353\n",
      "Best Eval:  1.8455156087875366\n",
      "Best Eval:  1.8386496305465698\n",
      "Best Eval:  1.834984540939331\n",
      "Best Eval:  1.829676866531372\n",
      "Best Eval:  1.8264962434768677\n",
      "Best Eval:  1.8204225301742554\n",
      "Best Eval:  1.8143954277038574\n",
      "Best Eval:  1.8042614459991455\n",
      "Best Eval:  1.7925636768341064\n",
      "Best Eval:  1.7875369787216187\n",
      "Best Eval:  1.7783607244491577\n",
      "Best Eval:  1.7774821519851685\n",
      "Epoch [242/50000], Loss: 1.3524133\n",
      "Test Error: 1.7774822\n",
      "    mean_abs_shap  stdev_abs_shap   name\n",
      "3        0.884103        0.955281    STE\n",
      "4        0.432873        0.450928    RUN\n",
      "2        0.333510        0.389843     SR\n",
      "0        0.166259        0.176912     WT\n",
      "10       0.159929        0.145429    GBT\n",
      "1        0.145330        0.221051    SPE\n",
      "7        0.134280        0.148375    K's\n",
      "11       0.128764        0.163640    FBT\n",
      "8        0.108343        0.222319    BFH\n",
      "6        0.095898        0.105437    GAP\n",
      "5        0.087847        0.142225  BABIP\n",
      "9        0.074678        0.124169    BBT\n"
     ]
    }
   ],
   "source": [
    "epoch_count, loss = bsrModel.train(18000)\n",
    "print(f\"Epoch [{epoch_count}/{50000}], Loss: {loss:.7f}\")\n",
    "\n",
    "test_loss = bsrModel.evaluate()\n",
    "print(f\"Test Error: {test_loss:.7f}\")\n",
    "\n",
    "#feature_importance = bsrModel.feature_importance()\n",
    "#print(feature_importance)\n",
    "\n",
    "bsrModel.save_model()\n"
   ]
  }
 ],
 "metadata": {
  "kernelspec": {
   "display_name": "Python 3 (ipykernel)",
   "language": "python",
   "name": "python3"
  },
  "language_info": {
   "codemirror_mode": {
    "name": "ipython",
    "version": 3
   },
   "file_extension": ".py",
   "mimetype": "text/x-python",
   "name": "python",
   "nbconvert_exporter": "python",
   "pygments_lexer": "ipython3",
   "version": "3.13.2"
  }
 },
 "nbformat": 4,
 "nbformat_minor": 2
}
