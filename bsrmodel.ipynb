{
 "cells": [
  {
   "cell_type": "code",
   "execution_count": 1,
   "metadata": {},
   "outputs": [
    {
     "name": "stderr",
     "output_type": "stream",
     "text": [
      "/home/wahoo/.pyenv/versions/3.13.2/envs/ootp-analytics/lib/python3.13/site-packages/tqdm/auto.py:21: TqdmWarning: IProgress not found. Please update jupyter and ipywidgets. See https://ipywidgets.readthedocs.io/en/stable/user_install.html\n",
      "  from .autonotebook import tqdm as notebook_tqdm\n"
     ]
    }
   ],
   "source": [
    "import pandas as pd\n",
    "import torch\n",
    "from model import RegressionRunner\n"
   ]
  },
  {
   "cell_type": "code",
   "execution_count": 2,
   "metadata": {},
   "outputs": [],
   "source": [
    "league =  'BZ'\n",
    "season = 2016"
   ]
  },
  {
   "cell_type": "code",
   "execution_count": 3,
   "metadata": {},
   "outputs": [],
   "source": [
    "feature_values = ['Age', 'WT', 'SPE', 'SR', 'STE', 'RUN', 'BABIP', 'GAP', 'K\\'s', 'BFH', 'BBT', 'GBT', 'FBT']\n",
    "\n",
    "targets = ['BSR600']"
   ]
  },
  {
   "cell_type": "code",
   "execution_count": 4,
   "metadata": {},
   "outputs": [],
   "source": [
    "def convert_bbt(bbt: str) -> int:\n",
    "    if bbt in ['Line Drive']:\n",
    "        return 1\n",
    "    elif bbt in ['Flyball']:\n",
    "        return 3\n",
    "    elif bbt in ['Normal']:\n",
    "        return 2\n",
    "    elif bbt in ['Groundball']:\n",
    "        return 0\n",
    "    \n",
    "def convert_gbt(gbt: str) -> int:\n",
    "    if gbt == 'Ex. Pull':\n",
    "        return 3\n",
    "    elif gbt == 'Pull':\n",
    "        return 2\n",
    "    elif gbt == 'Normal':\n",
    "        return 1\n",
    "    elif gbt == 'Spray':\n",
    "        return 0\n",
    "    \n",
    "def convert_fbt(fbt: str) -> int:\n",
    "    if fbt in ['Pull']:\n",
    "        return 2\n",
    "    elif fbt in ['Normal']:\n",
    "        return 1\n",
    "    elif fbt in ['Spray']:\n",
    "        return 0"
   ]
  },
  {
   "cell_type": "code",
   "execution_count": 5,
   "metadata": {},
   "outputs": [],
   "source": [
    "# load fielding dataset from csv\n",
    "hitting = pd.read_csv(f\"./files/{league}/{season}/output/{league}-{season}-hitting.csv\")\n",
    "player_data = pd.read_csv(f\"./files/{league}/{season}/output/{league}-{season}-player-data.csv\")\n",
    "player_data['WT'] = player_data['WT'].apply(lambda x: int(x[:3]))\n",
    "player_data['BBT'] = player_data['BBT'].apply(convert_bbt)\n",
    "player_data['GBT'] = player_data['GBT'].apply(convert_gbt)\n",
    "player_data['FBT'] = player_data['FBT'].apply(convert_fbt)\n",
    "with pd.option_context('future.no_silent_downcasting', True):\n",
    "    hitting.replace('-', 0 , inplace=True)\n",
    "    player_data.replace('-', 0 , inplace=True)\n",
    "\n"
   ]
  },
  {
   "cell_type": "code",
   "execution_count": 6,
   "metadata": {},
   "outputs": [
    {
     "name": "stdout",
     "output_type": "stream",
     "text": [
      "CUDA is available! Using GPU.\n"
     ]
    }
   ],
   "source": [
    "if torch.cuda.is_available():\n",
    "    device = torch.device('cuda')\n",
    "    print('CUDA is available! Using GPU.')\n",
    "else:\n",
    "    device = torch.device('cpu')\n",
    "    print('CUDA is not available. Using CPU.')"
   ]
  },
  {
   "cell_type": "code",
   "execution_count": 7,
   "metadata": {},
   "outputs": [
    {
     "name": "stdout",
     "output_type": "stream",
     "text": [
      "\n",
      "Training model for BSR\n",
      "Epoch [2000/50000], Loss: 0.0029662\n",
      "Epoch [4000/50000], Loss: 0.0013627\n",
      "Epoch [6000/50000], Loss: 0.0006320\n",
      "Epoch [8000/50000], Loss: 0.0002935\n",
      "Epoch [10000/50000], Loss: 0.0106598\n",
      "Epoch [12000/50000], Loss: 0.0000666\n",
      "Epoch [14000/50000], Loss: 0.0001038\n",
      "Epoch [16000/50000], Loss: 0.0050068\n",
      "Epoch [16845/50000], Loss: 0.0000099\n",
      "Epoch [16844/50000], Loss: 0.0000099\n",
      "Test Mean Squared Error: 17.8942986\n",
      "    mean_abs_shap  stdev_abs_shap   name\n",
      "3        1.481759        1.711276     SR\n",
      "4        1.270876        1.351517    STE\n",
      "2        1.015392        1.229790    SPE\n",
      "5        0.919515        1.063753    RUN\n",
      "9        0.825524        1.674642    BFH\n",
      "1        0.722756        0.846392     WT\n",
      "6        0.654008        0.714157  BABIP\n",
      "10       0.633877        0.860772    BBT\n",
      "0        0.591892        0.888410    Age\n",
      "12       0.587185        0.689642    FBT\n",
      "7        0.586639        0.638196    GAP\n",
      "8        0.583021        0.698160    K's\n",
      "11       0.567049        0.581298    GBT\n"
     ]
    }
   ],
   "source": [
    "#combine fielding and player data\n",
    "master_data = hitting.merge(player_data, on='ID')\n",
    "master_data = master_data[master_data['PA'] > 99]\n",
    "# test for cuda\n",
    "\n",
    "\n",
    "print(f\"\\r\\nTraining model for BSR\")\n",
    "filtered_data = master_data[feature_values + targets]\n",
    "\n",
    "# create a dataset with a subset of the columns\n",
    "#fielding_training_data_all = filtered_master_data_rows[feature_values[position] + targets[position]]\n",
    "for column in feature_values:\n",
    "    filtered_data = filtered_data.astype({column: 'float'})\n",
    "for column in targets:\n",
    "    filtered_data = filtered_data.astype({column: 'float'})\n",
    "\n",
    "fielding_runner = RegressionRunner(feature_values)\n",
    "fielding_runner.load_data(filtered_data, targets[0])\n",
    "\n",
    "epoch_count, loss = fielding_runner.train(50000)\n",
    "print(f\"Epoch [{epoch_count}/{50000}], Loss: {loss:.7f}\")\n",
    "\n",
    "test_loss = fielding_runner.evaluate()\n",
    "print(f\"Test Mean Squared Error: {test_loss:.7f}\")\n",
    "\n",
    "feature_importance = fielding_runner.feature_importance(feature_values)\n",
    "print(feature_importance)\n"
   ]
  }
 ],
 "metadata": {
  "kernelspec": {
   "display_name": "Python 3 (ipykernel)",
   "language": "python",
   "name": "python3"
  },
  "language_info": {
   "codemirror_mode": {
    "name": "ipython",
    "version": 3
   },
   "file_extension": ".py",
   "mimetype": "text/x-python",
   "name": "python",
   "nbconvert_exporter": "python",
   "pygments_lexer": "ipython3",
   "version": "3.13.2"
  }
 },
 "nbformat": 4,
 "nbformat_minor": 2
}
