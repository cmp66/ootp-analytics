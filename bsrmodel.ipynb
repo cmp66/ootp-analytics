{
 "cells": [
  {
   "cell_type": "code",
   "execution_count": 1,
   "metadata": {},
   "outputs": [
    {
     "name": "stderr",
     "output_type": "stream",
     "text": [
      "/home/wahoo/.pyenv/versions/3.13.2/envs/ootp-analytics/lib/python3.13/site-packages/tqdm/auto.py:21: TqdmWarning: IProgress not found. Please update jupyter and ipywidgets. See https://ipywidgets.readthedocs.io/en/stable/user_install.html\n",
      "  from .autonotebook import tqdm as notebook_tqdm\n"
     ]
    }
   ],
   "source": [
    "import pandas as pd\n",
    "import torch\n",
    "from model.BSRModel import BSRModel\n"
   ]
  },
  {
   "cell_type": "code",
   "execution_count": 2,
   "metadata": {},
   "outputs": [],
   "source": [
    "league =  'BZ'\n",
    "season_start = 2016\n",
    "season_end = 2035\n",
    "ratings_type = \"Standard\""
   ]
  },
  {
   "cell_type": "code",
   "execution_count": 3,
   "metadata": {},
   "outputs": [
    {
     "name": "stdout",
     "output_type": "stream",
     "text": [
      "CUDA is available! Using GPU.\n"
     ]
    }
   ],
   "source": [
    "bsrModel = BSRModel(league, season_start, season_end, ratings_type)"
   ]
  },
  {
   "cell_type": "code",
   "execution_count": 4,
   "metadata": {},
   "outputs": [
    {
     "name": "stdout",
     "output_type": "stream",
     "text": [
      "(296, 8)\n",
      "(594, 8)\n",
      "(890, 8)\n",
      "(1187, 8)\n",
      "(1487, 8)\n",
      "(1780, 8)\n",
      "(2071, 8)\n",
      "(2368, 8)\n",
      "(2664, 8)\n",
      "(2965, 8)\n",
      "(3265, 8)\n",
      "(3563, 8)\n",
      "(3866, 8)\n",
      "(4162, 8)\n",
      "(4463, 8)\n",
      "(4758, 8)\n",
      "(5054, 8)\n",
      "(5350, 8)\n",
      "(5650, 8)\n",
      "(5946, 8)\n",
      "Empty DataFrame\n",
      "Columns: [CON, SPE, SR, STE, RUN, GAP, BFH, BSR600]\n",
      "Index: []\n"
     ]
    }
   ],
   "source": [
    "bsrModel.load_data(400)"
   ]
  },
  {
   "cell_type": "code",
   "execution_count": 5,
   "metadata": {},
   "outputs": [
    {
     "name": "stdout",
     "output_type": "stream",
     "text": [
      "Epoch [2000/18000], Best Loss: 1.2704159\n",
      "Epoch [4000/18000], Best Loss: 1.1292756\n",
      "Epoch [6000/18000], Best Loss: 1.0511160\n",
      "Epoch [8000/18000], Best Loss: 0.9987074\n",
      "Epoch [10000/18000], Best Loss: 0.9610437\n",
      "Epoch [12000/18000], Best Loss: 0.9134918\n",
      "Epoch [14000/18000], Best Loss: 0.8808722\n",
      "Epoch [16000/18000], Best Loss: 0.8592194\n",
      "Epoch [18000/18000], Best Loss: 0.8351042\n",
      "Epoch [17999/50000], Loss: 0.8353904\n",
      "Test Error: 2.2863336\n"
     ]
    }
   ],
   "source": [
    "epoch_count, loss = bsrModel.train(18000)\n",
    "print(f\"Epoch [{epoch_count}/{50000}], Loss: {loss:.7f}\")\n",
    "\n",
    "test_loss = bsrModel.evaluate()\n",
    "print(f\"Test Error: {test_loss:.7f}\")\n",
    "\n",
    "#feature_importance = bsrModel.feature_importance()\n",
    "#print(feature_importance)\n",
    "\n",
    "bsrModel.save_model()\n"
   ]
  }
 ],
 "metadata": {
  "kernelspec": {
   "display_name": "Python 3 (ipykernel)",
   "language": "python",
   "name": "python3"
  },
  "language_info": {
   "codemirror_mode": {
    "name": "ipython",
    "version": 3
   },
   "file_extension": ".py",
   "mimetype": "text/x-python",
   "name": "python",
   "nbconvert_exporter": "python",
   "pygments_lexer": "ipython3",
   "version": "3.13.2"
  }
 },
 "nbformat": 4,
 "nbformat_minor": 2
}
