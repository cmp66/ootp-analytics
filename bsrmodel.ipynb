{
 "cells": [
  {
   "cell_type": "code",
   "execution_count": 1,
   "metadata": {},
   "outputs": [
    {
     "name": "stderr",
     "output_type": "stream",
     "text": [
      "/home/wahoo/.pyenv/versions/3.13.2/envs/ootp-analytics/lib/python3.13/site-packages/tqdm/auto.py:21: TqdmWarning: IProgress not found. Please update jupyter and ipywidgets. See https://ipywidgets.readthedocs.io/en/stable/user_install.html\n",
      "  from .autonotebook import tqdm as notebook_tqdm\n"
     ]
    }
   ],
   "source": [
    "from model.BSRModel import BSRModel\n"
   ]
  },
  {
   "cell_type": "code",
   "execution_count": 2,
   "metadata": {},
   "outputs": [],
   "source": [
    "league =  'BZ-Dev-Test'\n",
    "season_start = 2025\n",
    "season_end = 2075\n",
    "pa_limit = 10\n",
    "epochs = 10000\n",
    "ratings_type = \"Standard\""
   ]
  },
  {
   "cell_type": "code",
   "execution_count": 3,
   "metadata": {},
   "outputs": [
    {
     "name": "stdout",
     "output_type": "stream",
     "text": [
      "Empty DataFrame\n",
      "Columns: [SPE, SR, STE, RUN, BSR600]\n",
      "Index: []\n",
      "(29670, 5)\n",
      "Epoch [2000/10000], Best Loss: 2.8027647\n",
      "Epoch [4000/10000], Best Loss: 2.7894506\n",
      "Epoch [6000/10000], Best Loss: 2.7790940\n",
      "Epoch [8000/10000], Best Loss: 2.7723036\n",
      "Epoch [10000/10000], Best Loss: 2.7675302\n",
      "Epoch [9999/10000], Loss: 2.7691188\n",
      "Test Error: 2.7604229\n",
      "   mean_abs_shap  stdev_abs_shap name\n",
      "2       1.342497        0.929021  STE\n",
      "3       0.845728        0.442318  RUN\n",
      "0       0.449038        0.301563  SPE\n",
      "1       0.102132        0.092973   SR\n",
      "     SPE  SR  STE  RUN  Predictions     ID\n",
      "205   80  80   80   80     8.482297  68268\n",
      "79    70  80   80   80     7.525383  64311\n",
      "608   70  80   80   80     7.525383  81609\n",
      "134   70  80   80   80     7.525383  66179\n",
      "404   65  80   80   80     7.023281  73066\n",
      "..   ...  ..  ...  ...          ...    ...\n",
      "279   75  80   65   80     3.189730  70472\n",
      "299   60  80   70   70     3.186848  70899\n",
      "217   50  80   70   80     3.166971  68617\n",
      "123   70  80   65   80     3.101596  65644\n",
      "547   75  75   65   75     2.989929  76209\n",
      "\n",
      "[100 rows x 6 columns]\n"
     ]
    }
   ],
   "source": [
    "bsrModel = BSRModel(league, season_start, season_end, ratings_type, \"10\")\n",
    "bsrModel.load_data(pa_limit)\n",
    "\n",
    "epoch_count, loss = bsrModel.train(epochs)\n",
    "print(f\"Epoch [{epoch_count}/{epochs}], Loss: {loss:.7f}\")\n",
    "\n",
    "test_loss = bsrModel.evaluate()\n",
    "print(f\"Test Error: {test_loss:.7f}\")\n",
    "\n",
    "feature_importance = bsrModel.feature_importance()\n",
    "print(feature_importance)\n",
    "\n",
    "bsrModel.save_model()\n",
    "\n",
    "predictions = bsrModel.predict(season_end, pa_limit)\n",
    "predictions.sort_values(by='Predictions', ascending=False, inplace=True)\n",
    "print(predictions.head(100))"
   ]
  }
 ],
 "metadata": {
  "kernelspec": {
   "display_name": "Python 3 (ipykernel)",
   "language": "python",
   "name": "python3"
  },
  "language_info": {
   "codemirror_mode": {
    "name": "ipython",
    "version": 3
   },
   "file_extension": ".py",
   "mimetype": "text/x-python",
   "name": "python",
   "nbconvert_exporter": "python",
   "pygments_lexer": "ipython3",
   "version": "3.13.2"
  }
 },
 "nbformat": 4,
 "nbformat_minor": 2
}
