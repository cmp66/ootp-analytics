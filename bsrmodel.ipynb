{
 "cells": [
  {
   "cell_type": "code",
   "execution_count": 7,
   "metadata": {},
   "outputs": [],
   "source": [
    "from model.BSRModel import BSRModel\n"
   ]
  },
  {
   "cell_type": "code",
   "execution_count": 8,
   "metadata": {},
   "outputs": [],
   "source": [
    "league =  'BZ'\n",
    "season_start = 2016\n",
    "season_end = 2064\n",
    "pa_limit = 10\n",
    "epochs = 8000\n",
    "ratings_type = \"Mixed\""
   ]
  },
  {
   "cell_type": "code",
   "execution_count": 9,
   "metadata": {},
   "outputs": [
    {
     "name": "stdout",
     "output_type": "stream",
     "text": [
      "Empty DataFrame\n",
      "Columns: [SPE, SR, STE, RUN, WT, BSR600]\n",
      "Index: []\n",
      "(22363, 6)\n",
      "Epoch [2000/8000], Best Loss: 2.1749930\n",
      "Epoch [4000/8000], Best Loss: 2.1504955\n",
      "Epoch [6000/8000], Best Loss: 2.1388521\n",
      "Epoch [8000/8000], Best Loss: 2.1305256\n",
      "Epoch [7999/8000], Loss: 2.1305525\n",
      "Test Error: 2.2718475\n",
      "     SPE  SR  STE  RUN   WT  Predictions     ID\n",
      "298   10  10   10   10  192     7.850183  60033\n",
      "89    10  10   10   10  200     7.727069  53395\n",
      "391   10  10   10   10  202     7.590488  62281\n",
      "31     9  10   10   10  199     7.417643  50775\n",
      "262   10  10   10   10  185     7.406497  59253\n",
      "70     9  10   10   10  201     7.372244  52811\n",
      "359    8  10   10   10  192     7.210056  61492\n",
      "288    9  10   10   10  204     7.170693  59882\n",
      "182    8  10   10   10  197     7.126129  57371\n",
      "240    8  10   10   10  190     7.109239  58843\n"
     ]
    }
   ],
   "source": [
    "bsrModel = BSRModel(league, season_start, season_end, ratings_type, \"10\")\n",
    "bsrModel.load_data(pa_limit)\n",
    "\n",
    "epoch_count, loss = bsrModel.train(epochs)\n",
    "print(f\"Epoch [{epoch_count}/{epochs}], Loss: {loss:.7f}\")\n",
    "\n",
    "test_loss = bsrModel.evaluate()\n",
    "print(f\"Test Error: {test_loss:.7f}\")\n",
    "\n",
    "#feature_importance = bsrModel.feature_importance()\n",
    "#print(feature_importance)\n",
    "\n",
    "bsrModel.save_model()\n",
    "\n",
    "predictions = bsrModel.predict(season_end+1, pa_limit)\n",
    "predictions.sort_values(by='Predictions', ascending=False, inplace=True)\n",
    "print(predictions.head(10))"
   ]
  }
 ],
 "metadata": {
  "kernelspec": {
   "display_name": "Python 3 (ipykernel)",
   "language": "python",
   "name": "python3"
  },
  "language_info": {
   "codemirror_mode": {
    "name": "ipython",
    "version": 3
   },
   "file_extension": ".py",
   "mimetype": "text/x-python",
   "name": "python",
   "nbconvert_exporter": "python",
   "pygments_lexer": "ipython3",
   "version": "3.13.2"
  }
 },
 "nbformat": 4,
 "nbformat_minor": 2
}
