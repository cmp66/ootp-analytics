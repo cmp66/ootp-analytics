{
 "cells": [
  {
   "cell_type": "code",
   "execution_count": 1,
   "metadata": {},
   "outputs": [
    {
     "name": "stderr",
     "output_type": "stream",
     "text": [
      "/home/wahoo/.pyenv/versions/3.13.2/envs/ootp-analytics/lib/python3.13/site-packages/tqdm/auto.py:21: TqdmWarning: IProgress not found. Please update jupyter and ipywidgets. See https://ipywidgets.readthedocs.io/en/stable/user_install.html\n",
      "  from .autonotebook import tqdm as notebook_tqdm\n"
     ]
    }
   ],
   "source": [
    "from reports.excelReports import ExcelReportWriter\n",
    "from reports.PredictionMaker import PredictionMaker\n",
    "import pandas as pd"
   ]
  },
  {
   "cell_type": "code",
   "execution_count": 2,
   "metadata": {},
   "outputs": [
    {
     "name": "stderr",
     "output_type": "stream",
     "text": [
      "/mnt/c/Projects/ootp-analytics/reports/excelReports.py:62: DtypeWarning: Columns (6,160) have mixed types. Specify dtype option on import or set low_memory=False.\n",
      "  ratings = pd.read_csv(\n"
     ]
    }
   ],
   "source": [
    "writer = ExcelReportWriter(\"TGS\")\n",
    "writer.load_player_stats(2037)"
   ]
  },
  {
   "cell_type": "code",
   "execution_count": 3,
   "metadata": {},
   "outputs": [
    {
     "name": "stderr",
     "output_type": "stream",
     "text": [
      "/mnt/c/Projects/ootp-analytics/reports/PredictionMaker.py:59: DtypeWarning: Columns (6,160) have mixed types. Specify dtype option on import or set low_memory=False.\n",
      "  df_ratings = pd.read_csv(\n",
      "/mnt/c/Projects/ootp-analytics/model/HittingModel.py:183: SettingWithCopyWarning: \n",
      "A value is trying to be set on a copy of a slice from a DataFrame\n",
      "\n",
      "See the caveats in the documentation: https://pandas.pydata.org/pandas-docs/stable/user_guide/indexing.html#returning-a-view-versus-a-copy\n",
      "  data.replace(\"-\", 0, inplace=True)\n",
      "/mnt/c/Projects/ootp-analytics/reports/PredictionMaker.py:327: FutureWarning: The behavior of DataFrame.idxmax with all-NA values, or any-NA and skipna=False, is deprecated. In a future version this will raise ValueError\n",
      "  df_ratings[\"MaxWAA600Column\"] = df_ratings[self.fielding_total_wars].idxmax(axis=1)\n"
     ]
    },
    {
     "name": "stdout",
     "output_type": "stream",
     "text": [
      "(4041, 28)\n"
     ]
    }
   ],
   "source": [
    "pm = PredictionMaker(\"TGS\", 2037, \"Mixed\")\n",
    "predictions = pm.make_predictions(False)\n",
    "print(predictions.shape)\n",
    "writer.write_predictions(predictions)"
   ]
  },
  {
   "cell_type": "code",
   "execution_count": 4,
   "metadata": {},
   "outputs": [
    {
     "name": "stderr",
     "output_type": "stream",
     "text": [
      "/mnt/c/Projects/ootp-analytics/reports/PredictionMaker.py:59: DtypeWarning: Columns (6,160) have mixed types. Specify dtype option on import or set low_memory=False.\n",
      "  df_ratings = pd.read_csv(\n",
      "/mnt/c/Projects/ootp-analytics/model/HittingModel.py:183: SettingWithCopyWarning: \n",
      "A value is trying to be set on a copy of a slice from a DataFrame\n",
      "\n",
      "See the caveats in the documentation: https://pandas.pydata.org/pandas-docs/stable/user_guide/indexing.html#returning-a-view-versus-a-copy\n",
      "  data.replace(\"-\", 0, inplace=True)\n",
      "/mnt/c/Projects/ootp-analytics/reports/PredictionMaker.py:327: FutureWarning: The behavior of DataFrame.idxmax with all-NA values, or any-NA and skipna=False, is deprecated. In a future version this will raise ValueError\n",
      "  df_ratings[\"MaxWAA600Column\"] = df_ratings[self.fielding_total_wars].idxmax(axis=1)\n"
     ]
    },
    {
     "name": "stdout",
     "output_type": "stream",
     "text": [
      "(7358, 28)\n"
     ]
    }
   ],
   "source": [
    "predictions = pm.make_predictions(True)\n",
    "print(predictions.shape)\n",
    "writer.write_potential_predictions(predictions)"
   ]
  },
  {
   "cell_type": "code",
   "execution_count": null,
   "metadata": {},
   "outputs": [],
   "source": []
  }
 ],
 "metadata": {
  "kernelspec": {
   "display_name": "Python 3 (ipykernel)",
   "language": "python",
   "name": "python3"
  },
  "language_info": {
   "codemirror_mode": {
    "name": "ipython",
    "version": 3
   },
   "file_extension": ".py",
   "mimetype": "text/x-python",
   "name": "python",
   "nbconvert_exporter": "python",
   "pygments_lexer": "ipython3",
   "version": "3.13.2"
  }
 },
 "nbformat": 4,
 "nbformat_minor": 2
}
